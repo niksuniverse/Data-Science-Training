{
 "cells": [
  {
   "cell_type": "code",
   "execution_count": 0,
   "metadata": {
    "application/vnd.databricks.v1+cell": {
     "cellMetadata": {
      "byteLimit": 2048000,
      "rowLimit": 10000
     },
     "inputWidgets": {},
     "nuid": "94d2de5e-dbab-4128-9ed2-04e4f18bbc0c",
     "showTitle": false,
     "tableResultSettingsMap": {},
     "title": ""
    }
   },
   "outputs": [
    {
     "output_type": "stream",
     "name": "stdout",
     "output_type": "stream",
     "text": [
      "hello world\n"
     ]
    }
   ],
   "source": [
    "print(\"hello world\")"
   ]
  },
  {
   "cell_type": "code",
   "execution_count": 0,
   "metadata": {
    "application/vnd.databricks.v1+cell": {
     "cellMetadata": {
      "byteLimit": 2048000,
      "rowLimit": 10000
     },
     "inputWidgets": {},
     "nuid": "55039e2a-3171-40a2-97b8-eeb3ca5f48f9",
     "showTitle": false,
     "tableResultSettingsMap": {},
     "title": ""
    }
   },
   "outputs": [
    {
     "output_type": "stream",
     "name": "stdout",
     "output_type": "stream",
     "text": [
      "1 2 3 4 "
     ]
    }
   ],
   "source": [
    "name=[1,2,3,4]\n",
    "for i in name:\n",
    "    print(i,end=\" \")"
   ]
  },
  {
   "cell_type": "code",
   "execution_count": 0,
   "metadata": {
    "application/vnd.databricks.v1+cell": {
     "cellMetadata": {
      "byteLimit": 2048000,
      "rowLimit": 10000
     },
     "inputWidgets": {},
     "nuid": "30cb6cba-a438-4c0d-8dc2-359f01f3e557",
     "showTitle": false,
     "tableResultSettingsMap": {},
     "title": ""
    }
   },
   "outputs": [
    {
     "output_type": "stream",
     "name": "stdout",
     "output_type": "stream",
     "text": [
      "+----------+------------+--------+-----+\n|product_id|product_name|quantity|price|\n+----------+------------+--------+-----+\n|      P001|    Notebook|       3|45000|\n|      P002|    Keyboard|       2| 7000|\n|      P003|       Mouse|       5| 4000|\n|      P004|     Monitor|       1|15000|\n|      P005|       Chair|       4| 8000|\n+----------+------------+--------+-----+\n\n"
     ]
    }
   ],
   "source": [
    "data = [\n",
    "    (\"P001\", \"Notebook\", 3, 45000),\n",
    "    (\"P002\", \"Keyboard\", 2, 7000),\n",
    "    (\"P003\", \"Mouse\", 5, 4000),\n",
    "    (\"P004\", \"Monitor\", 1, 15000),\n",
    "    (\"P005\", \"Chair\", 4, 8000)\n",
    "]\n",
    "columns=[\"product_id\",\"product_name\",\"quantity\",\"price\"]\n",
    "df=spark.createDataFrame(data,columns)\n",
    "\n",
    "df.show()"
   ]
  },
  {
   "cell_type": "code",
   "execution_count": 0,
   "metadata": {
    "application/vnd.databricks.v1+cell": {
     "cellMetadata": {
      "byteLimit": 2048000,
      "rowLimit": 10000
     },
     "inputWidgets": {},
     "nuid": "788ab64a-afef-4728-b1a9-e574defc8e59",
     "showTitle": false,
     "tableResultSettingsMap": {},
     "title": ""
    }
   },
   "outputs": [
    {
     "output_type": "execute_result",
     "data": {
      "text/plain": [
       "5"
      ]
     },
     "execution_count": 18,
     "metadata": {},
     "output_type": "execute_result"
    }
   ],
   "source": [
    "df.count()"
   ]
  },
  {
   "cell_type": "code",
   "execution_count": 0,
   "metadata": {
    "application/vnd.databricks.v1+cell": {
     "cellMetadata": {
      "byteLimit": 2048000,
      "rowLimit": 10000
     },
     "inputWidgets": {},
     "nuid": "f36043c9-a855-4388-a297-9cd570e53f8c",
     "showTitle": false,
     "tableResultSettingsMap": {},
     "title": ""
    }
   },
   "outputs": [
    {
     "output_type": "stream",
     "name": "stdout",
     "output_type": "stream",
     "text": [
      "+----------+------------+--------+-----+-------+\n|product_id|product_name|quantity|price|revenue|\n+----------+------------+--------+-----+-------+\n|      P001|    Notebook|       3|45000| 135000|\n|      P002|    Keyboard|       2| 7000|  14000|\n|      P003|       Mouse|       5| 4000|  20000|\n|      P004|     Monitor|       1|15000|  15000|\n|      P005|       Chair|       4| 8000|  32000|\n+----------+------------+--------+-----+-------+\n\n"
     ]
    }
   ],
   "source": [
    "\n",
    "from pyspark.sql.functions import col, expr\n",
    "df = df.withColumn(\"revenue\", expr(\"quantity * price\"))\n",
    "df.show()"
   ]
  },
  {
   "cell_type": "code",
   "execution_count": 0,
   "metadata": {
    "application/vnd.databricks.v1+cell": {
     "cellMetadata": {
      "byteLimit": 2048000,
      "rowLimit": 10000
     },
     "inputWidgets": {},
     "nuid": "c59192a0-2b04-40b0-bacc-d1b5b14131aa",
     "showTitle": false,
     "tableResultSettingsMap": {},
     "title": ""
    }
   },
   "outputs": [
    {
     "output_type": "stream",
     "name": "stdout",
     "output_type": "stream",
     "text": [
      "+----------+------------+--------+-----+-------+\n|product_id|product_name|quantity|price|revenue|\n+----------+------------+--------+-----+-------+\n|      P001|    Notebook|       3|45000| 135000|\n|      P004|     Monitor|       1|15000|  15000|\n+----------+------------+--------+-----+-------+\n\n"
     ]
    }
   ],
   "source": [
    "\n",
    "df.filter(col(\"price\")>10000).show()\n",
    "\n"
   ]
  }
 ],
 "metadata": {
  "application/vnd.databricks.v1+notebook": {
   "computePreferences": null,
   "dashboards": [],
   "environmentMetadata": {
    "base_environment": "",
    "environment_version": "2"
   },
   "inputWidgetPreferences": null,
   "language": "python",
   "notebookMetadata": {
    "pythonIndentUnit": 4
   },
   "notebookName": "New  book",
   "widgets": {}
  },
  "language_info": {
   "name": "python"
  }
 },
 "nbformat": 4,
 "nbformat_minor": 0
}