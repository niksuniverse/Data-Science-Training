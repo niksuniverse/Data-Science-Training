{
  "nbformat": 4,
  "nbformat_minor": 0,
  "metadata": {
    "colab": {
      "provenance": []
    },
    "kernelspec": {
      "name": "python3",
      "display_name": "Python 3"
    },
    "language_info": {
      "name": "python"
    }
  },
  "cells": [
    {
      "cell_type": "code",
      "execution_count": 1,
      "metadata": {
        "id": "4pc0ND9Cz74b"
      },
      "outputs": [],
      "source": [
        "import pandas as pd\n",
        "import numpy as np"
      ]
    },
    {
      "cell_type": "code",
      "source": [
        "from pyspark.sql import SparkSession\n",
        "from pyspark.sql.functions import col, to_date, month, year, sum as _sum, avg, stddev\n",
        "\n",
        "spark = SparkSession.builder.appName(\"ExpenseAnalysis\").getOrCreate()\n",
        "\n",
        "df = spark.read.option(\"header\", True).option(\"inferSchema\", True).csv(\"expense_transactions.csv\")\n",
        "\n",
        "df.show()"
      ],
      "metadata": {
        "colab": {
          "base_uri": "https://localhost:8080/"
        },
        "id": "hzbFkMM20L0x",
        "outputId": "03d9fa99-48f5-481e-8bfb-4cd594542c43"
      },
      "execution_count": 3,
      "outputs": [
        {
          "output_type": "stream",
          "name": "stdout",
          "text": [
            "+--------------+--------------------+------+--------+----------+\n",
            "|transaction_id|          user_email|amount|category|      date|\n",
            "+--------------+--------------------+------+--------+----------+\n",
            "|             1|NikitaYS06@gmail.com|  1200| Grocery|2025-01-01|\n",
            "|             2|Arivunazi21@gmail...|   800|  Travel|2025-01-16|\n",
            "|             3|LokeyNikey21@gmai...|   900|  Health|2025-01-31|\n",
            "|             4|NikitaYS06@gmail.com| 10000|  Luxury|2025-02-15|\n",
            "|             5|Arivunazi21@gmail...|   850| Grocery|2025-03-02|\n",
            "|             6|LokeyNikey21@gmai...|   300|  Health|2025-03-17|\n",
            "|             7|NikitaYS06@gmail.com|  1300| Grocery|2025-04-01|\n",
            "|             8|Arivunazi21@gmail...|  7000|  Luxury|2025-04-16|\n",
            "|             9|LokeyNikey21@gmai...|  1800|  Travel|2025-05-01|\n",
            "|            10|NikitaYS06@gmail.com|   600| Grocery|2025-05-16|\n",
            "|            11|Arivunazi21@gmail...|   400|  Health|2025-05-31|\n",
            "|            12|LokeyNikey21@gmai...|  1500| Grocery|2025-06-15|\n",
            "|            13|NikitaYS06@gmail.com|  1200|  Travel|2025-06-30|\n",
            "|            14|Arivunazi21@gmail...|  1000|  Luxury|2025-07-15|\n",
            "|            15|LokeyNikey21@gmai...|   900|  Health|2025-07-30|\n",
            "|            16|NikitaYS06@gmail.com| 18000|  Luxury|2025-08-14|\n",
            "|            17|Arivunazi21@gmail...|   200| Grocery|2025-08-29|\n",
            "|            18|LokeyNikey21@gmai...|   800|  Travel|2025-09-13|\n",
            "|            19|NikitaYS06@gmail.com|   900| Grocery|2025-09-28|\n",
            "|            20|Arivunazi21@gmail...|   750|  Travel|2025-10-13|\n",
            "+--------------+--------------------+------+--------+----------+\n",
            "\n"
          ]
        }
      ]
    },
    {
      "cell_type": "code",
      "source": [
        "# Convert date to proper format\n",
        "df = df.withColumn(\"date\", to_date(\"date\", \"yyyy-MM-dd\"))\n",
        "df.show()"
      ],
      "metadata": {
        "colab": {
          "base_uri": "https://localhost:8080/"
        },
        "id": "kIDyyRZ70L38",
        "outputId": "3f249599-e8c8-448f-8364-68ea03515d5d"
      },
      "execution_count": 4,
      "outputs": [
        {
          "output_type": "stream",
          "name": "stdout",
          "text": [
            "+--------------+--------------------+------+--------+----------+\n",
            "|transaction_id|          user_email|amount|category|      date|\n",
            "+--------------+--------------------+------+--------+----------+\n",
            "|             1|NikitaYS06@gmail.com|  1200| Grocery|2025-01-01|\n",
            "|             2|Arivunazi21@gmail...|   800|  Travel|2025-01-16|\n",
            "|             3|LokeyNikey21@gmai...|   900|  Health|2025-01-31|\n",
            "|             4|NikitaYS06@gmail.com| 10000|  Luxury|2025-02-15|\n",
            "|             5|Arivunazi21@gmail...|   850| Grocery|2025-03-02|\n",
            "|             6|LokeyNikey21@gmai...|   300|  Health|2025-03-17|\n",
            "|             7|NikitaYS06@gmail.com|  1300| Grocery|2025-04-01|\n",
            "|             8|Arivunazi21@gmail...|  7000|  Luxury|2025-04-16|\n",
            "|             9|LokeyNikey21@gmai...|  1800|  Travel|2025-05-01|\n",
            "|            10|NikitaYS06@gmail.com|   600| Grocery|2025-05-16|\n",
            "|            11|Arivunazi21@gmail...|   400|  Health|2025-05-31|\n",
            "|            12|LokeyNikey21@gmai...|  1500| Grocery|2025-06-15|\n",
            "|            13|NikitaYS06@gmail.com|  1200|  Travel|2025-06-30|\n",
            "|            14|Arivunazi21@gmail...|  1000|  Luxury|2025-07-15|\n",
            "|            15|LokeyNikey21@gmai...|   900|  Health|2025-07-30|\n",
            "|            16|NikitaYS06@gmail.com| 18000|  Luxury|2025-08-14|\n",
            "|            17|Arivunazi21@gmail...|   200| Grocery|2025-08-29|\n",
            "|            18|LokeyNikey21@gmai...|   800|  Travel|2025-09-13|\n",
            "|            19|NikitaYS06@gmail.com|   900| Grocery|2025-09-28|\n",
            "|            20|Arivunazi21@gmail...|   750|  Travel|2025-10-13|\n",
            "+--------------+--------------------+------+--------+----------+\n",
            "\n"
          ]
        }
      ]
    },
    {
      "cell_type": "code",
      "source": [
        "# Add year and month\n",
        "df = df.withColumn(\"month\", month(\"date\")).withColumn(\"year\", year(\"date\"))\n",
        "df.show()"
      ],
      "metadata": {
        "colab": {
          "base_uri": "https://localhost:8080/"
        },
        "id": "TIicLasJ0L6e",
        "outputId": "c95495a5-1d2d-4284-90c0-a8642903af69"
      },
      "execution_count": 6,
      "outputs": [
        {
          "output_type": "stream",
          "name": "stdout",
          "text": [
            "+--------------+--------------------+------+--------+----------+-----+----+\n",
            "|transaction_id|          user_email|amount|category|      date|month|year|\n",
            "+--------------+--------------------+------+--------+----------+-----+----+\n",
            "|             1|NikitaYS06@gmail.com|  1200| Grocery|2025-01-01|    1|2025|\n",
            "|             2|Arivunazi21@gmail...|   800|  Travel|2025-01-16|    1|2025|\n",
            "|             3|LokeyNikey21@gmai...|   900|  Health|2025-01-31|    1|2025|\n",
            "|             4|NikitaYS06@gmail.com| 10000|  Luxury|2025-02-15|    2|2025|\n",
            "|             5|Arivunazi21@gmail...|   850| Grocery|2025-03-02|    3|2025|\n",
            "|             6|LokeyNikey21@gmai...|   300|  Health|2025-03-17|    3|2025|\n",
            "|             7|NikitaYS06@gmail.com|  1300| Grocery|2025-04-01|    4|2025|\n",
            "|             8|Arivunazi21@gmail...|  7000|  Luxury|2025-04-16|    4|2025|\n",
            "|             9|LokeyNikey21@gmai...|  1800|  Travel|2025-05-01|    5|2025|\n",
            "|            10|NikitaYS06@gmail.com|   600| Grocery|2025-05-16|    5|2025|\n",
            "|            11|Arivunazi21@gmail...|   400|  Health|2025-05-31|    5|2025|\n",
            "|            12|LokeyNikey21@gmai...|  1500| Grocery|2025-06-15|    6|2025|\n",
            "|            13|NikitaYS06@gmail.com|  1200|  Travel|2025-06-30|    6|2025|\n",
            "|            14|Arivunazi21@gmail...|  1000|  Luxury|2025-07-15|    7|2025|\n",
            "|            15|LokeyNikey21@gmai...|   900|  Health|2025-07-30|    7|2025|\n",
            "|            16|NikitaYS06@gmail.com| 18000|  Luxury|2025-08-14|    8|2025|\n",
            "|            17|Arivunazi21@gmail...|   200| Grocery|2025-08-29|    8|2025|\n",
            "|            18|LokeyNikey21@gmai...|   800|  Travel|2025-09-13|    9|2025|\n",
            "|            19|NikitaYS06@gmail.com|   900| Grocery|2025-09-28|    9|2025|\n",
            "|            20|Arivunazi21@gmail...|   750|  Travel|2025-10-13|   10|2025|\n",
            "+--------------+--------------------+------+--------+----------+-----+----+\n",
            "\n"
          ]
        }
      ]
    },
    {
      "cell_type": "code",
      "source": [
        "# Group by user and month to get total expense\n",
        "monthly_spend = df.groupBy(\"user_email\", \"year\", \"month\").agg( _sum(\"amount\").alias(\"monthly_total\"))\n",
        "print(\"=== Monthly Spend by User ===\")\n",
        "monthly_spend.orderBy(\"user_email\", \"year\", \"month\").show()"
      ],
      "metadata": {
        "colab": {
          "base_uri": "https://localhost:8080/"
        },
        "id": "tROldptv1eOm",
        "outputId": "949d26f3-d7e7-4742-fa90-fc5d2c03fa14"
      },
      "execution_count": 12,
      "outputs": [
        {
          "output_type": "stream",
          "name": "stdout",
          "text": [
            "=== Monthly Spend by User ===\n",
            "+--------------------+----+-----+-------------+\n",
            "|          user_email|year|month|monthly_total|\n",
            "+--------------------+----+-----+-------------+\n",
            "|Arivunazi21@gmail...|2025|    1|          800|\n",
            "|Arivunazi21@gmail...|2025|    3|          850|\n",
            "|Arivunazi21@gmail...|2025|    4|         7000|\n",
            "|Arivunazi21@gmail...|2025|    5|          400|\n",
            "|Arivunazi21@gmail...|2025|    7|         1000|\n",
            "|Arivunazi21@gmail...|2025|    8|          200|\n",
            "|Arivunazi21@gmail...|2025|   10|          750|\n",
            "|LokeyNikey21@gmai...|2025|    1|          900|\n",
            "|LokeyNikey21@gmai...|2025|    3|          300|\n",
            "|LokeyNikey21@gmai...|2025|    5|         1800|\n",
            "|LokeyNikey21@gmai...|2025|    6|         1500|\n",
            "|LokeyNikey21@gmai...|2025|    7|          900|\n",
            "|LokeyNikey21@gmai...|2025|    9|          800|\n",
            "|NikitaYS06@gmail.com|2025|    1|         1200|\n",
            "|NikitaYS06@gmail.com|2025|    2|        10000|\n",
            "|NikitaYS06@gmail.com|2025|    4|         1300|\n",
            "|NikitaYS06@gmail.com|2025|    5|          600|\n",
            "|NikitaYS06@gmail.com|2025|    6|         1200|\n",
            "|NikitaYS06@gmail.com|2025|    8|        18000|\n",
            "|NikitaYS06@gmail.com|2025|    9|          900|\n",
            "+--------------------+----+-----+-------------+\n",
            "\n"
          ]
        }
      ]
    },
    {
      "cell_type": "code",
      "source": [
        "from pyspark.sql.functions import avg, stddev, col\n",
        "\n",
        "# Step 1: Calculate average and std deviation of spend per user\n",
        "stats = df.groupBy(\"user_email\").agg(\n",
        "    avg(\"amount\").alias(\"avg_spend\"),\n",
        "    stddev(\"amount\").alias(\"std_spend\")\n",
        ")\n",
        "stats.show()"
      ],
      "metadata": {
        "colab": {
          "base_uri": "https://localhost:8080/"
        },
        "id": "jAB0IY4t1eTp",
        "outputId": "b9c9eed5-9245-41ab-c8b8-608f5771913b"
      },
      "execution_count": 20,
      "outputs": [
        {
          "output_type": "stream",
          "name": "stdout",
          "text": [
            "+--------------------+------------------+------------------+\n",
            "|          user_email|         avg_spend|         std_spend|\n",
            "+--------------------+------------------+------------------+\n",
            "|NikitaYS06@gmail.com| 4742.857142857143| 6736.432572921948|\n",
            "|Arivunazi21@gmail...|1571.4285714285713|2409.6779077394594|\n",
            "|LokeyNikey21@gmai...|1033.3333333333333| 535.4126134736337|\n",
            "+--------------------+------------------+------------------+\n",
            "\n"
          ]
        }
      ]
    },
    {
      "cell_type": "code",
      "source": [
        "\n",
        "# Step 2: Join stats with original dataframe\n",
        "df_with_stats = df.join(stats, on=\"user_email\")\n",
        "df_with_stats.show()"
      ],
      "metadata": {
        "colab": {
          "base_uri": "https://localhost:8080/"
        },
        "id": "Ies-Efvr1eVy",
        "outputId": "9ae7d3e9-e570-4cd4-eea0-688f06ed672b"
      },
      "execution_count": 19,
      "outputs": [
        {
          "output_type": "stream",
          "name": "stdout",
          "text": [
            "+--------------------+--------------+------+--------+----------+-----+----+------------------+------------------+\n",
            "|          user_email|transaction_id|amount|category|      date|month|year|         avg_spend|         std_spend|\n",
            "+--------------------+--------------+------+--------+----------+-----+----+------------------+------------------+\n",
            "|NikitaYS06@gmail.com|             1|  1200| Grocery|2025-01-01|    1|2025| 4742.857142857143| 6736.432572921948|\n",
            "|Arivunazi21@gmail...|             2|   800|  Travel|2025-01-16|    1|2025|1571.4285714285713|2409.6779077394594|\n",
            "|LokeyNikey21@gmai...|             3|   900|  Health|2025-01-31|    1|2025|1033.3333333333333| 535.4126134736337|\n",
            "|NikitaYS06@gmail.com|             4| 10000|  Luxury|2025-02-15|    2|2025| 4742.857142857143| 6736.432572921948|\n",
            "|Arivunazi21@gmail...|             5|   850| Grocery|2025-03-02|    3|2025|1571.4285714285713|2409.6779077394594|\n",
            "|LokeyNikey21@gmai...|             6|   300|  Health|2025-03-17|    3|2025|1033.3333333333333| 535.4126134736337|\n",
            "|NikitaYS06@gmail.com|             7|  1300| Grocery|2025-04-01|    4|2025| 4742.857142857143| 6736.432572921948|\n",
            "|Arivunazi21@gmail...|             8|  7000|  Luxury|2025-04-16|    4|2025|1571.4285714285713|2409.6779077394594|\n",
            "|LokeyNikey21@gmai...|             9|  1800|  Travel|2025-05-01|    5|2025|1033.3333333333333| 535.4126134736337|\n",
            "|NikitaYS06@gmail.com|            10|   600| Grocery|2025-05-16|    5|2025| 4742.857142857143| 6736.432572921948|\n",
            "|Arivunazi21@gmail...|            11|   400|  Health|2025-05-31|    5|2025|1571.4285714285713|2409.6779077394594|\n",
            "|LokeyNikey21@gmai...|            12|  1500| Grocery|2025-06-15|    6|2025|1033.3333333333333| 535.4126134736337|\n",
            "|NikitaYS06@gmail.com|            13|  1200|  Travel|2025-06-30|    6|2025| 4742.857142857143| 6736.432572921948|\n",
            "|Arivunazi21@gmail...|            14|  1000|  Luxury|2025-07-15|    7|2025|1571.4285714285713|2409.6779077394594|\n",
            "|LokeyNikey21@gmai...|            15|   900|  Health|2025-07-30|    7|2025|1033.3333333333333| 535.4126134736337|\n",
            "|NikitaYS06@gmail.com|            16| 18000|  Luxury|2025-08-14|    8|2025| 4742.857142857143| 6736.432572921948|\n",
            "|Arivunazi21@gmail...|            17|   200| Grocery|2025-08-29|    8|2025|1571.4285714285713|2409.6779077394594|\n",
            "|LokeyNikey21@gmai...|            18|   800|  Travel|2025-09-13|    9|2025|1033.3333333333333| 535.4126134736337|\n",
            "|NikitaYS06@gmail.com|            19|   900| Grocery|2025-09-28|    9|2025| 4742.857142857143| 6736.432572921948|\n",
            "|Arivunazi21@gmail...|            20|   750|  Travel|2025-10-13|   10|2025|1571.4285714285713|2409.6779077394594|\n",
            "+--------------------+--------------+------+--------+----------+-----+----+------------------+------------------+\n",
            "\n"
          ]
        }
      ]
    },
    {
      "cell_type": "code",
      "source": [
        "\n",
        "# Step 3: Detect unusually large expenses: amount > avg + 2*std\n",
        "anomalies = df_with_stats.filter(\n",
        "    col(\"amount\") > (col(\"avg_spend\") + 2 * col(\"std_spend\"))\n",
        ")\n",
        "\n",
        "# Show anomalies\n",
        "print(\"=== Unusual High Expenses Detected ===\")\n",
        "anomalies.select(\"user_email\", \"date\", \"amount\", \"category\", \"avg_spend\", \"std_spend\").show()\n"
      ],
      "metadata": {
        "colab": {
          "base_uri": "https://localhost:8080/"
        },
        "id": "zQMJ4HwZ2qur",
        "outputId": "1f18fa43-0c1b-44a8-c523-e1e920daf66b"
      },
      "execution_count": 22,
      "outputs": [
        {
          "output_type": "stream",
          "name": "stdout",
          "text": [
            "=== Unusual High Expenses Detected ===\n",
            "+--------------------+----------+------+--------+------------------+------------------+\n",
            "|          user_email|      date|amount|category|         avg_spend|         std_spend|\n",
            "+--------------------+----------+------+--------+------------------+------------------+\n",
            "|Arivunazi21@gmail...|2025-04-16|  7000|  Luxury|1571.4285714285713|2409.6779077394594|\n",
            "+--------------------+----------+------+--------+------------------+------------------+\n",
            "\n"
          ]
        }
      ]
    },
    {
      "cell_type": "code",
      "source": [
        "# Show unusual transactions\n",
        "print(\"=== Unusual Transactions Detected ===\")\n",
        "flagged.filter(\"is_unusual = true\").select(\"user_id\", \"date\", \"category\", \"amount\").show()"
      ],
      "metadata": {
        "id": "wIXwkcTL1eYY"
      },
      "execution_count": null,
      "outputs": []
    },
    {
      "cell_type": "code",
      "source": [
        "\n",
        "user_total_spend = df.groupBy(\"user_email\").agg(_sum(\"amount\").alias(\"total_spend\"))\n",
        "user_total_spend.orderBy(\"total_spend\", ascending=False).show()\n",
        "pivot_df = df.groupBy(\"user_email\").pivot(\"category\").agg(_sum(\"amount\"))\n",
        "pivot_df.show()\n",
        "\n"
      ],
      "metadata": {
        "colab": {
          "base_uri": "https://localhost:8080/"
        },
        "id": "kBP_rI0C1eat",
        "outputId": "50bf09db-8d7a-4a73-fde9-2b8a35153fd4"
      },
      "execution_count": 25,
      "outputs": [
        {
          "output_type": "stream",
          "name": "stdout",
          "text": [
            "+--------------------+-----------+\n",
            "|          user_email|total_spend|\n",
            "+--------------------+-----------+\n",
            "|NikitaYS06@gmail.com|      33200|\n",
            "|Arivunazi21@gmail...|      11000|\n",
            "|LokeyNikey21@gmai...|       6200|\n",
            "+--------------------+-----------+\n",
            "\n",
            "+--------------------+-------+------+------+------+\n",
            "|          user_email|Grocery|Health|Luxury|Travel|\n",
            "+--------------------+-------+------+------+------+\n",
            "|NikitaYS06@gmail.com|   4000|  NULL| 28000|  1200|\n",
            "|Arivunazi21@gmail...|   1050|   400|  8000|  1550|\n",
            "|LokeyNikey21@gmai...|   1500|  2100|  NULL|  2600|\n",
            "+--------------------+-------+------+------+------+\n",
            "\n"
          ]
        }
      ]
    },
    {
      "cell_type": "code",
      "source": [
        "avg_monthly_category = df.groupBy(\"year\", \"month\", \"category\").agg(avg(\"amount\").alias(\"avg_spend\"))\n",
        "\n",
        "avg_monthly_category.orderBy(\"year\", \"month\", \"category\").show()\n"
      ],
      "metadata": {
        "colab": {
          "base_uri": "https://localhost:8080/"
        },
        "id": "MB-kk8zO1ec0",
        "outputId": "d2bef6d7-7825-4ff5-ee8d-3221e898d0b3"
      },
      "execution_count": 26,
      "outputs": [
        {
          "output_type": "stream",
          "name": "stdout",
          "text": [
            "+----+-----+--------+---------+\n",
            "|year|month|category|avg_spend|\n",
            "+----+-----+--------+---------+\n",
            "|2025|    1| Grocery|   1200.0|\n",
            "|2025|    1|  Health|    900.0|\n",
            "|2025|    1|  Travel|    800.0|\n",
            "|2025|    2|  Luxury|  10000.0|\n",
            "|2025|    3| Grocery|    850.0|\n",
            "|2025|    3|  Health|    300.0|\n",
            "|2025|    4| Grocery|   1300.0|\n",
            "|2025|    4|  Luxury|   7000.0|\n",
            "|2025|    5| Grocery|    600.0|\n",
            "|2025|    5|  Health|    400.0|\n",
            "|2025|    5|  Travel|   1800.0|\n",
            "|2025|    6| Grocery|   1500.0|\n",
            "|2025|    6|  Travel|   1200.0|\n",
            "|2025|    7|  Health|    900.0|\n",
            "|2025|    7|  Luxury|   1000.0|\n",
            "|2025|    8| Grocery|    200.0|\n",
            "|2025|    8|  Luxury|  18000.0|\n",
            "|2025|    9| Grocery|    900.0|\n",
            "|2025|    9|  Travel|    800.0|\n",
            "|2025|   10|  Travel|    750.0|\n",
            "+----+-----+--------+---------+\n",
            "\n"
          ]
        }
      ]
    },
    {
      "cell_type": "code",
      "source": [
        "from pyspark.sql.functions import collect_list\n",
        "\n",
        "missing_months_grouped = missing_months.groupBy(\"user_email\").agg(\n",
        "    collect_list(\"month\").alias(\"missing_months\")\n",
        ")\n",
        "\n",
        "missing_months_grouped.orderBy(\"user_email\").show(truncate=False)\n"
      ],
      "metadata": {
        "colab": {
          "base_uri": "https://localhost:8080/"
        },
        "id": "EpIxr-3T4Rkl",
        "outputId": "98e54b9a-73a2-4c74-b765-a2cd4d8c408d"
      },
      "execution_count": 29,
      "outputs": [
        {
          "output_type": "stream",
          "name": "stdout",
          "text": [
            "+----------------------+---------------------+\n",
            "|user_email            |missing_months       |\n",
            "+----------------------+---------------------+\n",
            "|Arivunazi21@gmail.com |[2, 6, 9, 11, 12]    |\n",
            "|LokeyNikey21@gmail.com|[2, 4, 8, 10, 11, 12]|\n",
            "|NikitaYS06@gmail.com  |[3, 7, 10, 11, 12]   |\n",
            "+----------------------+---------------------+\n",
            "\n"
          ]
        }
      ]
    }
  ]
}