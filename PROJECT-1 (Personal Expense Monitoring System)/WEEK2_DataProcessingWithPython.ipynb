{
  "nbformat": 4,
  "nbformat_minor": 0,
  "metadata": {
    "colab": {
      "provenance": []
    },
    "kernelspec": {
      "name": "python3",
      "display_name": "Python 3"
    },
    "language_info": {
      "name": "python"
    }
  },
  "cells": [
    {
      "cell_type": "code",
      "source": [
        "import pandas as pd\n",
        "import numpy as np"
      ],
      "metadata": {
        "id": "tROY4U1W5Ri3"
      },
      "execution_count": 4,
      "outputs": []
    },
    {
      "cell_type": "code",
      "source": [
        "df = pd.read_csv('expense.csv')\n",
        "print(df)"
      ],
      "metadata": {
        "colab": {
          "base_uri": "https://localhost:8080/"
        },
        "id": "OR56qlBh5Rt2",
        "outputId": "5aa22f1e-aa6f-4de2-b82c-69c072ac6223"
      },
      "execution_count": 6,
      "outputs": [
        {
          "output_type": "stream",
          "name": "stdout",
          "text": [
            "     User                   Email       Category   Amount        Date\n",
            "0  Nikita    nikitays06@gmail.com        Grocery  $150.50  2025-06-15\n",
            "1  Nikita    nikitays06@gmail.com      Transport   $60.00  2025-06-20\n",
            "2   Arivu   arivunazi21@gmail.com        Grocery   $90.00  2025-06-12\n",
            "3   Arivu   arivunazi21@gmail.com  Entertainment  $120.75  2025-07-05\n",
            "4  Lokesh  lokeynikey21@gmail.com      Utilities  $200.00  2025-07-08\n",
            "5  Lokesh  lokeynikey21@gmail.com      Transport   $75.25  2025-06-28\n",
            "6  Nikita    nikitays06@gmail.com  Entertainment  $110.10  2025-07-03\n",
            "7   Arivu   arivunazi21@gmail.com      Utilities   $85.40  2025-07-12\n",
            "8  Lokesh  lokeynikey21@gmail.com        Grocery  $130.30  2025-07-14\n"
          ]
        }
      ]
    },
    {
      "cell_type": "markdown",
      "source": [
        "\n",
        "Clean and convert data"
      ],
      "metadata": {
        "id": "xKxV7m5d5tIs"
      }
    },
    {
      "cell_type": "code",
      "source": [
        "df['Amount'] = df['Amount'].replace('[\\$,]', '', regex=True).astype(float)\n",
        "print(df)"
      ],
      "metadata": {
        "colab": {
          "base_uri": "https://localhost:8080/"
        },
        "id": "FGZHsh235Rwt",
        "outputId": "006d055e-4ace-4c0e-e4ef-e5d829ad661d"
      },
      "execution_count": 7,
      "outputs": [
        {
          "output_type": "stream",
          "name": "stdout",
          "text": [
            "     User                   Email       Category  Amount        Date\n",
            "0  Nikita    nikitays06@gmail.com        Grocery  150.50  2025-06-15\n",
            "1  Nikita    nikitays06@gmail.com      Transport   60.00  2025-06-20\n",
            "2   Arivu   arivunazi21@gmail.com        Grocery   90.00  2025-06-12\n",
            "3   Arivu   arivunazi21@gmail.com  Entertainment  120.75  2025-07-05\n",
            "4  Lokesh  lokeynikey21@gmail.com      Utilities  200.00  2025-07-08\n",
            "5  Lokesh  lokeynikey21@gmail.com      Transport   75.25  2025-06-28\n",
            "6  Nikita    nikitays06@gmail.com  Entertainment  110.10  2025-07-03\n",
            "7   Arivu   arivunazi21@gmail.com      Utilities   85.40  2025-07-12\n",
            "8  Lokesh  lokeynikey21@gmail.com        Grocery  130.30  2025-07-14\n"
          ]
        }
      ]
    },
    {
      "cell_type": "code",
      "source": [
        "df['Date'] = pd.to_datetime(df['Date'])\n",
        "print(df)"
      ],
      "metadata": {
        "colab": {
          "base_uri": "https://localhost:8080/"
        },
        "id": "qhZ-IhE25RzU",
        "outputId": "57657f60-200e-4674-926c-19ec5a2e4926"
      },
      "execution_count": 8,
      "outputs": [
        {
          "output_type": "stream",
          "name": "stdout",
          "text": [
            "     User                   Email       Category  Amount       Date\n",
            "0  Nikita    nikitays06@gmail.com        Grocery  150.50 2025-06-15\n",
            "1  Nikita    nikitays06@gmail.com      Transport   60.00 2025-06-20\n",
            "2   Arivu   arivunazi21@gmail.com        Grocery   90.00 2025-06-12\n",
            "3   Arivu   arivunazi21@gmail.com  Entertainment  120.75 2025-07-05\n",
            "4  Lokesh  lokeynikey21@gmail.com      Utilities  200.00 2025-07-08\n",
            "5  Lokesh  lokeynikey21@gmail.com      Transport   75.25 2025-06-28\n",
            "6  Nikita    nikitays06@gmail.com  Entertainment  110.10 2025-07-03\n",
            "7   Arivu   arivunazi21@gmail.com      Utilities   85.40 2025-07-12\n",
            "8  Lokesh  lokeynikey21@gmail.com        Grocery  130.30 2025-07-14\n"
          ]
        }
      ]
    },
    {
      "cell_type": "markdown",
      "source": [
        "\n",
        "**Group by month and category**"
      ],
      "metadata": {
        "id": "y7dCSLYD6OZn"
      }
    },
    {
      "cell_type": "code",
      "source": [
        "df['Month'] = df['Date'].dt.to_period('M')\n",
        "print(df)"
      ],
      "metadata": {
        "colab": {
          "base_uri": "https://localhost:8080/"
        },
        "id": "678WlxwR5R6B",
        "outputId": "0e732f59-bab8-4bce-f0f7-a727f5a0efca"
      },
      "execution_count": 10,
      "outputs": [
        {
          "output_type": "stream",
          "name": "stdout",
          "text": [
            "     User                   Email       Category  Amount       Date    Month\n",
            "0  Nikita    nikitays06@gmail.com        Grocery  150.50 2025-06-15  2025-06\n",
            "1  Nikita    nikitays06@gmail.com      Transport   60.00 2025-06-20  2025-06\n",
            "2   Arivu   arivunazi21@gmail.com        Grocery   90.00 2025-06-12  2025-06\n",
            "3   Arivu   arivunazi21@gmail.com  Entertainment  120.75 2025-07-05  2025-07\n",
            "4  Lokesh  lokeynikey21@gmail.com      Utilities  200.00 2025-07-08  2025-07\n",
            "5  Lokesh  lokeynikey21@gmail.com      Transport   75.25 2025-06-28  2025-06\n",
            "6  Nikita    nikitays06@gmail.com  Entertainment  110.10 2025-07-03  2025-07\n",
            "7   Arivu   arivunazi21@gmail.com      Utilities   85.40 2025-07-12  2025-07\n",
            "8  Lokesh  lokeynikey21@gmail.com        Grocery  130.30 2025-07-14  2025-07\n"
          ]
        }
      ]
    },
    {
      "cell_type": "code",
      "source": [
        "monthly_tot = df.groupby(['Month', 'Category'])['Amount'].sum().unstack().fillna(0)\n",
        "print(\" Monthly Total by Category:\\n \", monthly_tot)"
      ],
      "metadata": {
        "colab": {
          "base_uri": "https://localhost:8080/"
        },
        "id": "hHnQ0W1i5R9h",
        "outputId": "24ae0361-efb5-4b40-b828-40b4eb471556"
      },
      "execution_count": 12,
      "outputs": [
        {
          "output_type": "stream",
          "name": "stdout",
          "text": [
            " Monthly Total by Category:\n",
            "  Category  Entertainment  Grocery  Transport  Utilities\n",
            "Month                                                 \n",
            "2025-06            0.00    240.5     135.25        0.0\n",
            "2025-07          230.85    130.3       0.00      285.4\n"
          ]
        }
      ]
    },
    {
      "cell_type": "markdown",
      "source": [
        "\n",
        "\n",
        "**Monthly average by user**"
      ],
      "metadata": {
        "id": "6HB4kRnl6i1V"
      }
    },
    {
      "cell_type": "code",
      "source": [
        "\n",
        "monthly_avg = df.groupby(['User', 'Month'])['Amount'].mean().unstack().fillna(0)\n",
        "print(\"\\n Monthly Average Expense per User:\\n\", monthly_avg)"
      ],
      "metadata": {
        "colab": {
          "base_uri": "https://localhost:8080/"
        },
        "id": "wnl5i-kx5SAZ",
        "outputId": "4ac88972-1ac7-43c6-96c6-c14c5b32b3b9"
      },
      "execution_count": 13,
      "outputs": [
        {
          "output_type": "stream",
          "name": "stdout",
          "text": [
            "\n",
            " Monthly Average Expense per User:\n",
            " Month   2025-06  2025-07\n",
            "User                    \n",
            "Arivu     90.00  103.075\n",
            "Lokesh    75.25  165.150\n",
            "Nikita   105.25  110.100\n"
          ]
        }
      ]
    },
    {
      "cell_type": "markdown",
      "source": [
        "\n",
        "\n",
        "**Cleaned final dataset**"
      ],
      "metadata": {
        "id": "NvHxqGaK7Byf"
      }
    },
    {
      "cell_type": "code",
      "source": [
        "\n",
        "df_cleaned = df.sort_values(by='Date')\n",
        "print(\"\\n Cleaned Dataset:\\n\", df_cleaned)"
      ],
      "metadata": {
        "colab": {
          "base_uri": "https://localhost:8080/"
        },
        "id": "fKt02VSG5SDS",
        "outputId": "25550ce1-82ce-4b11-ae1d-e9c1628cbf2f"
      },
      "execution_count": 14,
      "outputs": [
        {
          "output_type": "stream",
          "name": "stdout",
          "text": [
            "\n",
            " Cleaned Dataset:\n",
            "      User                   Email       Category  Amount       Date    Month\n",
            "2   Arivu   arivunazi21@gmail.com        Grocery   90.00 2025-06-12  2025-06\n",
            "0  Nikita    nikitays06@gmail.com        Grocery  150.50 2025-06-15  2025-06\n",
            "1  Nikita    nikitays06@gmail.com      Transport   60.00 2025-06-20  2025-06\n",
            "5  Lokesh  lokeynikey21@gmail.com      Transport   75.25 2025-06-28  2025-06\n",
            "6  Nikita    nikitays06@gmail.com  Entertainment  110.10 2025-07-03  2025-07\n",
            "3   Arivu   arivunazi21@gmail.com  Entertainment  120.75 2025-07-05  2025-07\n",
            "4  Lokesh  lokeynikey21@gmail.com      Utilities  200.00 2025-07-08  2025-07\n",
            "7   Arivu   arivunazi21@gmail.com      Utilities   85.40 2025-07-12  2025-07\n",
            "8  Lokesh  lokeynikey21@gmail.com        Grocery  130.30 2025-07-14  2025-07\n"
          ]
        }
      ]
    },
    {
      "cell_type": "markdown",
      "source": [
        "\n",
        "\n",
        "Export cleaned data"
      ],
      "metadata": {
        "id": "iSuUAheT6nsa"
      }
    },
    {
      "cell_type": "code",
      "source": [
        "\n",
        "df_cleaned.to_csv('cleaned_expenses.csv', index=False)"
      ],
      "metadata": {
        "id": "MW6bjOWn5SFm"
      },
      "execution_count": 16,
      "outputs": []
    }
  ]
}