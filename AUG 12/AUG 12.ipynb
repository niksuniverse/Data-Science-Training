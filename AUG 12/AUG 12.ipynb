{
 "cells": [
  {
   "cell_type": "code",
   "execution_count": 0,
   "metadata": {
    "application/vnd.databricks.v1+cell": {
     "cellMetadata": {
      "byteLimit": 2048000,
      "rowLimit": 10000
     },
     "inputWidgets": {},
     "nuid": "8a07e951-4062-4e42-8e31-d2a3eafc0d12",
     "showTitle": false,
     "tableResultSettingsMap": {},
     "title": ""
    }
   },
   "outputs": [
    {
     "output_type": "stream",
     "name": "stdout",
     "output_type": "stream",
     "text": [
      "+--------+------+-----------+--------+-------+\n|order_id|region|   category|quantity|  price|\n+--------+------+-----------+--------+-------+\n|    O001| South|Electronics|       3|15000.0|\n|    O002| North|   Clothing|       5| 2000.0|\n|    O003|  East|  Furniture|       2|12000.0|\n|    O004|  West|Electronics|       1|18000.0|\n|    O005| North|  Furniture|       4| 9000.0|\n|    O006| South|   Clothing|       6| 2500.0|\n|    O007|  East|Electronics|       2|17000.0|\n+--------+------+-----------+--------+-------+\n\n"
     ]
    }
   ],
   "source": [
    "from pyspark.sql import SparkSession\n",
    "from pyspark.sql.types import StructType, StructField, StringType, IntegerType, DoubleType\n",
    "\n",
    "spark = SparkSession.builder.getOrCreate()\n",
    "\n",
    "# Schema\n",
    "schema = StructType([\n",
    "    StructField(\"order_id\", StringType()),\n",
    "    StructField(\"region\", StringType()),\n",
    "    StructField(\"category\", StringType()),\n",
    "    StructField(\"quantity\", IntegerType()),\n",
    "    StructField(\"price\", DoubleType())\n",
    "])\n",
    "\n",
    "# Inline data\n",
    "data = [\n",
    "    (\"O001\", \"South\", \"Electronics\", 3, 15000),\n",
    "    (\"O002\", \"North\", \"Clothing\", 5, 2000),\n",
    "    (\"O003\", \"East\", \"Furniture\", 2, 12000),\n",
    "    (\"O004\", \"West\", \"Electronics\", 1, 18000),\n",
    "    (\"O005\", \"North\", \"Furniture\", 4, 9000),\n",
    "    (\"O006\", \"South\", \"Clothing\", 6, 2500),\n",
    "    (\"O007\", \"East\", \"Electronics\", 2, 17000)\n",
    "]\n",
    "\n",
    "df = spark.createDataFrame(data, schema)\n",
    "df.show()"
   ]
  },
  {
   "cell_type": "code",
   "execution_count": 0,
   "metadata": {
    "application/vnd.databricks.v1+cell": {
     "cellMetadata": {
      "byteLimit": 2048000,
      "rowLimit": 10000
     },
     "inputWidgets": {},
     "nuid": "7b4f0302-4dce-400c-8892-2fc1b9c1fc03",
     "showTitle": false,
     "tableResultSettingsMap": {},
     "title": ""
    }
   },
   "outputs": [
    {
     "output_type": "stream",
     "name": "stdout",
     "output_type": "stream",
     "text": [
      "+-----------+--------------+-------------+------------------+\n|   category|total_quantity|total_revenue|   avg_order_value|\n+-----------+--------------+-------------+------------------+\n|Electronics|             6|      97000.0|32333.333333333332|\n|   Clothing|            11|      25000.0|           12500.0|\n|  Furniture|             6|      60000.0|           30000.0|\n+-----------+--------------+-------------+------------------+\n\n+------+------------+-------------+\n|region|total_orders|total_revenue|\n+------+------------+-------------+\n| South|           2|      60000.0|\n| North|           2|      46000.0|\n|  East|           2|      58000.0|\n|  West|           1|      18000.0|\n+------+------------+-------------+\n\n"
     ]
    }
   ],
   "source": [
    "from pyspark.sql.functions import col, sum as _sum, avg, count\n",
    "\n",
    "# Total revenue column\n",
    "df = df.withColumn(\"revenue\", col(\"quantity\") * col(\"price\"))\n",
    "\n",
    "# Summary by category\n",
    "category_summary = df.groupBy(\"category\").agg(\n",
    "    _sum(\"quantity\").alias(\"total_quantity\"),\n",
    "    _sum(\"revenue\").alias(\"total_revenue\"),\n",
    "    avg(\"revenue\").alias(\"avg_order_value\")\n",
    ")\n",
    "\n",
    "category_summary.show()\n",
    "\n",
    "# Summary by region\n",
    "region_summary = df.groupBy(\"region\").agg(\n",
    "    count(\"*\").alias(\"total_orders\"),\n",
    "    _sum(\"revenue\").alias(\"total_revenue\")\n",
    ")\n",
    "\n",
    "region_summary.show()\n"
   ]
  },
  {
   "cell_type": "code",
   "execution_count": 0,
   "metadata": {
    "application/vnd.databricks.v1+cell": {
     "cellMetadata": {
      "byteLimit": 2048000,
      "rowLimit": 10000
     },
     "inputWidgets": {},
     "nuid": "7f0bfffb-7661-44fb-8b32-282e5bf5c5b9",
     "showTitle": false,
     "tableResultSettingsMap": {},
     "title": ""
    }
   },
   "outputs": [
    {
     "output_type": "display_data",
     "data": {
      "image/png": "[encoded data removed]",
      "text/plain": [
       "<Figure size 640x480 with 1 Axes>"
      ]
     },
     "metadata": {},
     "output_type": "display_data"
    }
   ],
   "source": [
    "import pandas as pd\n",
    "import matplotlib.pyplot as plt\n",
    "\n",
    "# Convert to Pandas for matplotlib\n",
    "pdf = category_summary.toPandas()\n",
    "\n",
    "plt.bar(pdf['category'], pdf['total_revenue'])\n",
    "plt.xlabel(\"Category\")\n",
    "plt.ylabel(\"Total Revenue\")\n",
    "plt.title(\"Revenue by Category\")\n",
    "plt.show()\n"
   ]
  }
 ],
 "metadata": {
  "application/vnd.databricks.v1+notebook": {
   "computePreferences": null,
   "dashboards": [],
   "environmentMetadata": {
    "base_environment": "",
    "environment_version": "2"
   },
   "inputWidgetPreferences": null,
   "language": "python",
   "notebookMetadata": {
    "pythonIndentUnit": 4
   },
   "notebookName": "AUG 12",
   "widgets": {}
  },
  "language_info": {
   "name": "python"
  }
 },
 "nbformat": 4,
 "nbformat_minor": 0
}