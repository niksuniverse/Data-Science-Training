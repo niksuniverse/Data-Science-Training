{
 "cells": [
  {
   "cell_type": "code",
   "execution_count": 0,
   "metadata": {
    "application/vnd.databricks.v1+cell": {
     "cellMetadata": {
      "byteLimit": 2048000,
      "rowLimit": 10000
     },
     "inputWidgets": {},
     "nuid": "5ccd1352-8c59-446c-a24d-3d3502f49280",
     "showTitle": false,
     "tableResultSettingsMap": {},
     "title": ""
    }
   },
   "outputs": [
    {
     "output_type": "stream",
     "name": "stdout",
     "output_type": "stream",
     "text": [
      "product_id       int64\nproduct_name    object\ncategory        object\nprice            int64\nquantity         int64\ndtype: object\n"
     ]
    }
   ],
   "source": [
    "import pandas as pd\n",
    "\n",
    "# CSV Data\n",
    "csv_data = \"\"\"product_id,product_name,category,price,quantity\n",
    "101,Laptop,Electronics,55000,10\n",
    "102,Smartphone,Electronics,30000,25\n",
    "103,Chair,Furniture,2500,50\n",
    "104,Book,Stationery,400,200\n",
    "105,Headphones,Electronics,1500,100\n",
    "106,Table,Furniture,3200,40\n",
    "107,Pen,Stationery,20,500\n",
    "108,Monitor,Electronics,12000,15\n",
    "109,Notebook,Stationery,60,300\n",
    "110,Sofa,Furniture,45000,5\"\"\"\n",
    "\n",
    "# Read CSV into DataFrame\n",
    "from io import StringIO\n",
    "csv_file = StringIO(csv_data)\n",
    "df_csv = pd.read_csv(csv_file)\n",
    "\n",
    "# Print schema\n",
    "print(df_csv.dtypes)\n"
   ]
  },
  {
   "cell_type": "code",
   "execution_count": 0,
   "metadata": {
    "application/vnd.databricks.v1+cell": {
     "cellMetadata": {
      "byteLimit": 2048000,
      "rowLimit": 10000
     },
     "inputWidgets": {},
     "nuid": "15d0f6e0-9ea9-4f26-9051-492f24b662aa",
     "showTitle": false,
     "tableResultSettingsMap": {},
     "title": ""
    }
   },
   "outputs": [
    {
     "output_type": "stream",
     "name": "stdout",
     "output_type": "stream",
     "text": [
      "product_id       int64\nproduct_name    object\ncategory        object\nprice            int64\nquantity         int64\ndtype: object\nCSV Schema:\n product_id       int64\nproduct_name    object\ncategory        object\nprice            int64\nquantity         int64\ndtype: object\nJSON Schema:\n product_id       int64\nproduct_name    object\ncategory        object\nprice            int64\nquantity         int64\ndtype: object\n"
     ]
    }
   ],
   "source": [
    "# JSON Data\n",
    "json_data = [\n",
    "    {\"product_id\": 101, \"product_name\": \"Laptop\", \"category\": \"Electronics\", \"price\": 55000, \"quantity\": 10},\n",
    "    {\"product_id\": 102, \"product_name\": \"Smartphone\", \"category\": \"Electronics\", \"price\": 30000, \"quantity\": 25},\n",
    "    {\"product_id\": 103, \"product_name\": \"Chair\", \"category\": \"Furniture\", \"price\": 2500, \"quantity\": 50},\n",
    "    {\"product_id\": 104, \"product_name\": \"Book\", \"category\": \"Stationery\", \"price\": 400, \"quantity\": 200},\n",
    "    {\"product_id\": 105, \"product_name\": \"Headphones\", \"category\": \"Electronics\", \"price\": 1500, \"quantity\": 100},\n",
    "    {\"product_id\": 106, \"product_name\": \"Table\", \"category\": \"Furniture\", \"price\": 3200, \"quantity\": 40},\n",
    "    {\"product_id\": 107, \"product_name\": \"Pen\", \"category\": \"Stationery\", \"price\": 20, \"quantity\": 500},\n",
    "    {\"product_id\": 108, \"product_name\": \"Monitor\", \"category\": \"Electronics\", \"price\": 12000, \"quantity\": 15},\n",
    "    {\"product_id\": 109, \"product_name\": \"Notebook\", \"category\": \"Stationery\", \"price\": 60, \"quantity\": 300},\n",
    "    {\"product_id\": 110, \"product_name\": \"Sofa\", \"category\": \"Furniture\", \"price\": 45000, \"quantity\": 5}\n",
    "]\n",
    "\n",
    "# Load JSON data into DataFrame\n",
    "df_json = pd.DataFrame(json_data)\n",
    "\n",
    "# Print schema\n",
    "print(df_json.dtypes)\n",
    "\n",
    "# Compare schemas between CSV and JSON\n",
    "csv_schema = df_csv.dtypes\n",
    "json_schema = df_json.dtypes\n",
    "\n",
    "print(\"CSV Schema:\\n\", csv_schema)\n",
    "print(\"JSON Schema:\\n\", json_schema)\n"
   ]
  },
  {
   "cell_type": "code",
   "execution_count": 0,
   "metadata": {
    "application/vnd.databricks.v1+cell": {
     "cellMetadata": {
      "byteLimit": 2048000,
      "rowLimit": 10000
     },
     "inputWidgets": {},
     "nuid": "f8e42f8f-4990-46b1-8bfd-f3fc4d4191c6",
     "showTitle": false,
     "tableResultSettingsMap": {},
     "title": ""
    }
   },
   "outputs": [],
   "source": [
    "# Convert CSV data to Parquet format\n",
    "import pyarrow as pa\n",
    "import pyarrow.parquet as pq\n",
    "\n",
    "# Convert to PyArrow Table\n",
    "table = pa.Table.from_pandas(df_csv)\n",
    "\n",
    "# Write to Parquet file\n",
    "pq.write_table(table, 'products.parquet')\n"
   ]
  },
  {
   "cell_type": "code",
   "execution_count": 0,
   "metadata": {
    "application/vnd.databricks.v1+cell": {
     "cellMetadata": {
      "byteLimit": 2048000,
      "rowLimit": 10000
     },
     "inputWidgets": {},
     "nuid": "20061331-bca4-420c-8ce8-9b7f13e7ebe6",
     "showTitle": false,
     "tableResultSettingsMap": {},
     "title": ""
    }
   },
   "outputs": [
    {
     "output_type": "stream",
     "name": "stdout",
     "output_type": "stream",
     "text": [
      "CSV Size: 0.3447265625 KB\nJSON Size: 1.0205078125 KB\nParquet Size: 4.4130859375 KB\n"
     ]
    }
   ],
   "source": [
    "import os\n",
    "import json\n",
    "# Save CSV and JSON to disk for size comparison\n",
    "df_csv.to_csv('products.csv', index=False)\n",
    "\n",
    "# Save JSON to disk\n",
    "with open('products.json', 'w') as json_file:\n",
    "    json.dump(json_data, json_file)\n",
    "\n",
    "# Get the file sizes\n",
    "csv_size = os.path.getsize('products.csv')\n",
    "json_size = os.path.getsize('products.json')\n",
    "parquet_size = os.path.getsize('products.parquet')\n",
    "\n",
    "print(f\"CSV Size: {csv_size / 1024} KB\")\n",
    "print(f\"JSON Size: {json_size / 1024} KB\")\n",
    "print(f\"Parquet Size: {parquet_size / 1024} KB\")\n"
   ]
  },
  {
   "cell_type": "code",
   "execution_count": 0,
   "metadata": {
    "application/vnd.databricks.v1+cell": {
     "cellMetadata": {
      "byteLimit": 2048000,
      "rowLimit": 10000
     },
     "inputWidgets": {},
     "nuid": "ba1e6096-2904-40ff-a854-a31b7730b838",
     "showTitle": false,
     "tableResultSettingsMap": {},
     "title": ""
    }
   },
   "outputs": [
    {
     "output_type": "stream",
     "name": "stdout",
     "output_type": "stream",
     "text": [
      "   product_id product_name     category  price  quantity  total_revenue\n0         101       Laptop  Electronics  55000        10         550000\n1         102   Smartphone  Electronics  30000        25         750000\n2         103        Chair    Furniture   2500        50         125000\n3         104         Book   Stationery    400       200          80000\n4         105   Headphones  Electronics   1500       100         150000\n"
     ]
    }
   ],
   "source": [
    "# Add a column 'total_revenue'\n",
    "df_csv['total_revenue'] = df_csv['price'] * df_csv['quantity']\n",
    "\n",
    "# Show the updated DataFrame\n",
    "print(df_csv.head())\n"
   ]
  },
  {
   "cell_type": "code",
   "execution_count": 0,
   "metadata": {
    "application/vnd.databricks.v1+cell": {
     "cellMetadata": {
      "byteLimit": 2048000,
      "rowLimit": 10000
     },
     "inputWidgets": {},
     "nuid": "04773dd2-26e5-4f85-85ce-09238f6e2298",
     "showTitle": false,
     "tableResultSettingsMap": {},
     "title": ""
    }
   },
   "outputs": [
    {
     "output_type": "stream",
     "name": "stdout",
     "output_type": "stream",
     "text": [
      "   product_id product_name     category  price  quantity  total_revenue\n1         102   Smartphone  Electronics  30000        25         750000\n0         101       Laptop  Electronics  55000        10         550000\n9         110         Sofa    Furniture  45000         5         225000\n"
     ]
    }
   ],
   "source": [
    "# Sort by total_revenue and get the top 3\n",
    "top_3_products = df_csv.sort_values(by='total_revenue', ascending=False).head(3)\n",
    "print(top_3_products)\n"
   ]
  },
  {
   "cell_type": "code",
   "execution_count": 0,
   "metadata": {
    "application/vnd.databricks.v1+cell": {
     "cellMetadata": {
      "byteLimit": 2048000,
      "rowLimit": 10000
     },
     "inputWidgets": {},
     "nuid": "2698329b-ca70-42d6-a36f-e5d3a5641fc5",
     "showTitle": false,
     "tableResultSettingsMap": {},
     "title": ""
    }
   },
   "outputs": [
    {
     "output_type": "stream",
     "name": "stdout",
     "output_type": "stream",
     "text": [
      "   product_id product_name   category  price  quantity  total_revenue\n5         106        Table  Furniture   3200        40         128000\n9         110         Sofa  Furniture  45000         5         225000\n"
     ]
    }
   ],
   "source": [
    "# Filter for Furniture products with price > 3000\n",
    "furniture_filtered = df_csv[(df_csv['category'] == 'Furniture') & (df_csv['price'] > 3000)]\n",
    "print(furniture_filtered)\n"
   ]
  },
  {
   "cell_type": "code",
   "execution_count": 0,
   "metadata": {
    "application/vnd.databricks.v1+cell": {
     "cellMetadata": {
      "byteLimit": 2048000,
      "rowLimit": 10000
     },
     "inputWidgets": {},
     "nuid": "d1a2940b-3eb1-41fd-9d61-5c3a27047b98",
     "showTitle": false,
     "tableResultSettingsMap": {},
     "title": ""
    }
   },
   "outputs": [
    {
     "output_type": "stream",
     "name": "stdout",
     "output_type": "stream",
     "text": [
      "   product_id product_name     category  ...  quantity  total_revenue  price_band\n0         101       Laptop  Electronics  ...        10         550000        High\n1         102   Smartphone  Electronics  ...        25         750000        High\n2         103        Chair    Furniture  ...        50         125000         Low\n3         104         Book   Stationery  ...       200          80000         Low\n4         105   Headphones  Electronics  ...       100         150000         Low\n\n[5 rows x 7 columns]\n"
     ]
    }
   ],
   "source": [
    "# Add a 'price_band' column based on price ranges\n",
    "def assign_price_band(price):\n",
    "    if price > 10000:\n",
    "        return 'High'\n",
    "    elif price > 3000:\n",
    "        return 'Medium'\n",
    "    else:\n",
    "        return 'Low'\n",
    "\n",
    "df_csv['price_band'] = df_csv['price'].apply(assign_price_band)\n",
    "\n",
    "# Show the DataFrame\n",
    "print(df_csv.head())\n"
   ]
  },
  {
   "cell_type": "code",
   "execution_count": 0,
   "metadata": {
    "application/vnd.databricks.v1+cell": {
     "cellMetadata": {
      "byteLimit": 2048000,
      "rowLimit": 10000
     },
     "inputWidgets": {},
     "nuid": "6f9a943b-402e-4598-9a41-369a3ba41f7d",
     "showTitle": false,
     "tableResultSettingsMap": {},
     "title": ""
    }
   },
   "outputs": [
    {
     "output_type": "stream",
     "name": "stdout",
     "output_type": "stream",
     "text": [
      "      category  quantity\n0  Electronics       150\n1    Furniture        95\n2   Stationery      1000\n"
     ]
    }
   ],
   "source": [
    "# Group by category and calculate the total quantity sold\n",
    "category_quantity = df_csv.groupby('category')['quantity'].sum().reset_index()\n",
    "print(category_quantity)\n"
   ]
  },
  {
   "cell_type": "code",
   "execution_count": 0,
   "metadata": {
    "application/vnd.databricks.v1+cell": {
     "cellMetadata": {
      "byteLimit": 2048000,
      "rowLimit": 10000
     },
     "inputWidgets": {},
     "nuid": "c009df18-7d19-4f8a-aa6c-f5350b07c7bb",
     "showTitle": false,
     "tableResultSettingsMap": {},
     "title": ""
    }
   },
   "outputs": [
    {
     "output_type": "stream",
     "name": "stdout",
     "output_type": "stream",
     "text": [
      "      category    price\n0  Electronics  24625.0\n1    Furniture  16900.0\n2   Stationery    160.0\n"
     ]
    }
   ],
   "source": [
    "# Calculate the average price for each category\n",
    "category_avg_price = df_csv.groupby('category')['price'].mean().reset_index()\n",
    "print(category_avg_price)\n"
   ]
  },
  {
   "cell_type": "code",
   "execution_count": 0,
   "metadata": {
    "application/vnd.databricks.v1+cell": {
     "cellMetadata": {
      "byteLimit": 2048000,
      "rowLimit": 10000
     },
     "inputWidgets": {},
     "nuid": "917558bb-8ffe-45ac-82ce-6e05b2832117",
     "showTitle": false,
     "tableResultSettingsMap": {},
     "title": ""
    }
   },
   "outputs": [
    {
     "output_type": "stream",
     "name": "stdout",
     "output_type": "stream",
     "text": [
      "Low       5\nHigh      4\nMedium    1\nName: price_band, dtype: int64\n"
     ]
    }
   ],
   "source": [
    "# Count how many products fall in each price band\n",
    "price_band_count = df_csv['price_band'].value_counts()\n",
    "print(price_band_count)\n"
   ]
  },
  {
   "cell_type": "code",
   "execution_count": 0,
   "metadata": {
    "application/vnd.databricks.v1+cell": {
     "cellMetadata": {
      "byteLimit": 2048000,
      "rowLimit": 10000
     },
     "inputWidgets": {},
     "nuid": "a0168a29-c646-41b4-be9e-9bd79f577dfe",
     "showTitle": false,
     "tableResultSettingsMap": {},
     "title": ""
    }
   },
   "outputs": [],
   "source": [
    "# Filter Electronics products with price > 5000\n",
    "electronics_filtered = df_csv[(df_csv['category'] == 'Electronics') & (df_csv['price'] > 5000)]\n",
    "\n",
    "# Save to Parquet file\n",
    "electronics_filtered_parquet = pa.Table.from_pandas(electronics_filtered)\n",
    "pq.write_table(electronics_filtered_parquet, 'electronics_filtered.parquet')\n"
   ]
  },
  {
   "cell_type": "code",
   "execution_count": 0,
   "metadata": {
    "application/vnd.databricks.v1+cell": {
     "cellMetadata": {
      "byteLimit": 2048000,
      "rowLimit": 10000
     },
     "inputWidgets": {},
     "nuid": "19f27d40-2ced-4967-9ac7-f8656df6ca96",
     "showTitle": false,
     "tableResultSettingsMap": {},
     "title": ""
    }
   },
   "outputs": [],
   "source": [
    "# Filter Stationery products\n",
    "stationery_filtered = df_csv[df_csv['category'] == 'Stationery']\n",
    "\n",
    "# Save to JSON file\n",
    "stationery_filtered.to_json('stationery_products.json', orient='records', lines=True)\n"
   ]
  },
  {
   "cell_type": "code",
   "execution_count": 0,
   "metadata": {
    "application/vnd.databricks.v1+cell": {
     "cellMetadata": {
      "byteLimit": 2048000,
      "rowLimit": 10000
     },
     "inputWidgets": {},
     "nuid": "22802cd9-8b1c-419d-8232-c40a7ca87c5a",
     "showTitle": false,
     "tableResultSettingsMap": {},
     "title": ""
    }
   },
   "outputs": [],
   "source": [
    "import pyarrow.parquet as pq\n",
    "\n",
    "# Read Parquet file\n",
    "df_parquet = pq.read_table('products.parquet').to_pandas()\n",
    "\n",
    "# Check the column names\n",
    "print(df_parquet.columns)\n",
    "\n",
    "# Calculate total revenue by category\n",
    "category_revenue = df_parquet.groupby('category')['revenue'].sum().reset_index()\n",
    "\n",
    "# Find category with highest total revenue\n",
    "highest_revenue_category = category_revenue.sort_values(by='total_revenue', ascending=False).head(1)\n",
    "print(highest_revenue_category)\n"
   ]
  },
  {
   "cell_type": "code",
   "execution_count": 0,
   "metadata": {
    "application/vnd.databricks.v1+cell": {
     "cellMetadata": {
      "byteLimit": 2048000,
      "rowLimit": 10000
     },
     "inputWidgets": {},
     "nuid": "abd1e9f9-d41b-43ce-ad11-a666411c9680",
     "showTitle": false,
     "tableResultSettingsMap": {},
     "title": ""
    }
   },
   "outputs": [
    {
     "output_type": "stream",
     "name": "stdout",
     "output_type": "stream",
     "text": [
      "+----------+------------+----------+-----+--------+-------------+----------+\n|product_id|product_name|  category|price|quantity|total_revenue|price_band|\n+----------+------------+----------+-----+--------+-------------+----------+\n|       104|        Book|Stationery|  400|     200|        80000|       Low|\n|       107|         Pen|Stationery|   20|     500|        10000|       Low|\n|       109|    Notebook|Stationery|   60|     300|        18000|       Low|\n+----------+------------+----------+-----+--------+-------------+----------+\n\n"
     ]
    }
   ],
   "source": [
    "from pyspark.sql import SparkSession\n",
    "\n",
    "# Start Spark session\n",
    "spark = SparkSession.builder.appName('SparkSQL').getOrCreate()\n",
    "\n",
    "# Create DataFrame from pandas\n",
    "spark_df = spark.createDataFrame(df_csv)\n",
    "\n",
    "# Create a temporary view\n",
    "spark_df.createOrReplaceTempView(\"products_view\")\n",
    "\n",
    "# Run Spark SQL to find products with quantity > 100 and price < 1000\n",
    "result = spark.sql(\"SELECT * FROM products_view WHERE quantity > 100 AND price < 1000\")\n",
    "\n",
    "# Show the result\n",
    "result.show()\n"
   ]
  }
 ],
 "metadata": {
  "application/vnd.databricks.v1+notebook": {
   "computePreferences": null,
   "dashboards": [],
   "environmentMetadata": {
    "base_environment": "",
    "environment_version": "2"
   },
   "inputWidgetPreferences": null,
   "language": "python",
   "notebookMetadata": {
    "pythonIndentUnit": 4
   },
   "notebookName": "Parquet vs csv vs json",
   "widgets": {}
  },
  "language_info": {
   "name": "python"
  }
 },
 "nbformat": 4,
 "nbformat_minor": 0
}