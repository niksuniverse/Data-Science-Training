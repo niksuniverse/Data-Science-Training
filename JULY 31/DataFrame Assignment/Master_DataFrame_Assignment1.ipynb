{
  "nbformat": 4,
  "nbformat_minor": 0,
  "metadata": {
    "colab": {
      "provenance": []
    },
    "kernelspec": {
      "name": "python3",
      "display_name": "Python 3"
    },
    "language_info": {
      "name": "python"
    }
  },
  "cells": [
    {
      "cell_type": "markdown",
      "source": [
        "#Master DataFrame Assignment – Retail Sales SuperstoreDataset (All-In-One)"
      ],
      "metadata": {
        "id": "AMR887IVwLOe"
      }
    },
    {
      "cell_type": "markdown",
      "source": [
        "#TASKS ACROSS Pandas, PySpark, and Dask"
      ],
      "metadata": {
        "id": "j4aGg8SXwszj"
      }
    },
    {
      "cell_type": "markdown",
      "source": [
        "PART 1: Pandas DataFrame Operations\n",
        "1. Load the CSV using pandas .\n",
        "2. Print schema, head, shape, dtypes.\n",
        "3. Select Customer , Product , Profit columns.\n",
        "4. Filter orders where Profit > 2000 and Discount = 0 .\n",
        "5. Sort by Profit descending.\n",
        "6. GroupBy Category → Total Profit, Avg Discount.\n",
        "7. Add a column TotalPrice = Quantity * UnitPrice .\n",
        "8. Drop the SubCategory column.\n",
        "9. Fill nulls in Discount with 0.10.\n",
        "10. Apply a function to categorize orders:"
      ],
      "metadata": {
        "id": "Mss8_P7rwxBV"
      }
    },
    {
      "cell_type": "code",
      "execution_count": 116,
      "metadata": {
        "colab": {
          "base_uri": "https://localhost:8080/",
          "height": 0
        },
        "id": "tcNJf_wbj_vw",
        "outputId": "6827fed7-620e-45b0-ab8b-7a6d8f2f41e7"
      },
      "outputs": [
        {
          "output_type": "stream",
          "name": "stdout",
          "text": [
            "   OrderID   OrderDate Customer      Segment Region   Product  \\\n",
            "0  CA-1001  15-01-2023     Ravi     Consumer  South    Laptop   \n",
            "1  CA-1002  20-02-2023    Priya    Corporate  North   Printer   \n",
            "2  CA-1003  25-01-2023     Amit     Consumer   East  Notebook   \n",
            "3  CA-1004  01-03-2023    Anita  Home Office   West     Table   \n",
            "4  CA-1005  05-02-2023    Divya     Consumer  South     Phone   \n",
            "\n",
            "          Category  SubCategory  Quantity  UnitPrice  Discount  Profit  \n",
            "0       Technology    Computers         1      55000      0.10    5000  \n",
            "1       Technology  Peripherals         2      12000      0.15    1800  \n",
            "2  Office Supplies        Paper         3        200      0.05     150  \n",
            "3        Furniture       Tables         1      18000      0.20   -1500  \n",
            "4       Technology       Phones         2      20000      0.00    3000  \n"
          ]
        }
      ],
      "source": [
        "import pandas as pd\n",
        "import numpy as np\n",
        "\n",
        "data=pd.read_csv('superstore.csv')\n",
        "print(data)\n"
      ]
    },
    {
      "cell_type": "code",
      "source": [
        "df=pd.DataFrame(data)\n",
        "print(df)"
      ],
      "metadata": {
        "colab": {
          "base_uri": "https://localhost:8080/",
          "height": 0
        },
        "id": "8XGZJ-S0xYEe",
        "outputId": "ee1781db-99fb-4622-ad8e-40a5f08f69e8"
      },
      "execution_count": 117,
      "outputs": [
        {
          "output_type": "stream",
          "name": "stdout",
          "text": [
            "   OrderID   OrderDate Customer      Segment Region   Product  \\\n",
            "0  CA-1001  15-01-2023     Ravi     Consumer  South    Laptop   \n",
            "1  CA-1002  20-02-2023    Priya    Corporate  North   Printer   \n",
            "2  CA-1003  25-01-2023     Amit     Consumer   East  Notebook   \n",
            "3  CA-1004  01-03-2023    Anita  Home Office   West     Table   \n",
            "4  CA-1005  05-02-2023    Divya     Consumer  South     Phone   \n",
            "\n",
            "          Category  SubCategory  Quantity  UnitPrice  Discount  Profit  \n",
            "0       Technology    Computers         1      55000      0.10    5000  \n",
            "1       Technology  Peripherals         2      12000      0.15    1800  \n",
            "2  Office Supplies        Paper         3        200      0.05     150  \n",
            "3        Furniture       Tables         1      18000      0.20   -1500  \n",
            "4       Technology       Phones         2      20000      0.00    3000  \n"
          ]
        }
      ]
    },
    {
      "cell_type": "code",
      "source": [
        "# 2️) Print schema, head, shape, dtypes\n",
        "print(\" Schema:\", df.columns)\n",
        "print()\n",
        "print(\" Head:\", df.head())\n",
        "print()\n",
        "print(\" Shape:\", df.shape)\n",
        "print()\n",
        "print(\" Data types:\", df.dtypes)\n",
        "print()"
      ],
      "metadata": {
        "colab": {
          "base_uri": "https://localhost:8080/",
          "height": 0
        },
        "id": "EUnr9R2axZvw",
        "outputId": "db9d712f-2039-4117-e8cd-ed72cac3f221"
      },
      "execution_count": 118,
      "outputs": [
        {
          "output_type": "stream",
          "name": "stdout",
          "text": [
            " Schema: Index(['OrderID', 'OrderDate', 'Customer', 'Segment', 'Region', 'Product',\n",
            "       'Category', 'SubCategory', 'Quantity', 'UnitPrice', 'Discount',\n",
            "       'Profit'],\n",
            "      dtype='object')\n",
            "\n",
            " Head:    OrderID   OrderDate Customer      Segment Region   Product  \\\n",
            "0  CA-1001  15-01-2023     Ravi     Consumer  South    Laptop   \n",
            "1  CA-1002  20-02-2023    Priya    Corporate  North   Printer   \n",
            "2  CA-1003  25-01-2023     Amit     Consumer   East  Notebook   \n",
            "3  CA-1004  01-03-2023    Anita  Home Office   West     Table   \n",
            "4  CA-1005  05-02-2023    Divya     Consumer  South     Phone   \n",
            "\n",
            "          Category  SubCategory  Quantity  UnitPrice  Discount  Profit  \n",
            "0       Technology    Computers         1      55000      0.10    5000  \n",
            "1       Technology  Peripherals         2      12000      0.15    1800  \n",
            "2  Office Supplies        Paper         3        200      0.05     150  \n",
            "3        Furniture       Tables         1      18000      0.20   -1500  \n",
            "4       Technology       Phones         2      20000      0.00    3000  \n",
            "\n",
            " Shape: (5, 12)\n",
            "\n",
            " Data types: OrderID         object\n",
            "OrderDate       object\n",
            "Customer        object\n",
            "Segment         object\n",
            "Region          object\n",
            "Product         object\n",
            "Category        object\n",
            "SubCategory     object\n",
            "Quantity         int64\n",
            "UnitPrice        int64\n",
            "Discount       float64\n",
            "Profit           int64\n",
            "dtype: object\n",
            "\n"
          ]
        }
      ]
    },
    {
      "cell_type": "markdown",
      "source": [
        "3. Select Customer , Product , Profit columns.\n"
      ],
      "metadata": {
        "id": "7yE39_zwyQGC"
      }
    },
    {
      "cell_type": "code",
      "source": [
        "#3. Select Customer , Product , Profit columns\n",
        "print(df[['Customer','Product','Profit']])"
      ],
      "metadata": {
        "colab": {
          "base_uri": "https://localhost:8080/",
          "height": 0
        },
        "id": "TaJbRt-KxZyj",
        "outputId": "4ae877ad-e349-4b2f-b0a1-0447755d8179"
      },
      "execution_count": 119,
      "outputs": [
        {
          "output_type": "stream",
          "name": "stdout",
          "text": [
            "  Customer   Product  Profit\n",
            "0     Ravi    Laptop    5000\n",
            "1    Priya   Printer    1800\n",
            "2     Amit  Notebook     150\n",
            "3    Anita     Table   -1500\n",
            "4    Divya     Phone    3000\n"
          ]
        }
      ]
    },
    {
      "cell_type": "code",
      "source": [
        "#4. Filter orders where Profit > 2000 and Discount = 0 .\n",
        "filter_profit=df['Profit']>2000\n",
        "filter_discount=df['Discount']==0\n",
        "print(df[filter_profit & filter_discount])"
      ],
      "metadata": {
        "colab": {
          "base_uri": "https://localhost:8080/",
          "height": 0
        },
        "id": "qRpAzvZkxZ1F",
        "outputId": "8c26ba2c-736f-4c63-f0a9-9040fd68a861"
      },
      "execution_count": 120,
      "outputs": [
        {
          "output_type": "stream",
          "name": "stdout",
          "text": [
            "   OrderID   OrderDate Customer   Segment Region Product    Category  \\\n",
            "4  CA-1005  05-02-2023    Divya  Consumer  South   Phone  Technology   \n",
            "\n",
            "  SubCategory  Quantity  UnitPrice  Discount  Profit  \n",
            "4      Phones         2      20000       0.0    3000  \n"
          ]
        }
      ]
    },
    {
      "cell_type": "code",
      "source": [
        "#5. Sort by Profit descending.\n",
        "print(df.sort_values(by='Profit',ascending=False))\n"
      ],
      "metadata": {
        "colab": {
          "base_uri": "https://localhost:8080/",
          "height": 0
        },
        "id": "170NqNhixZ3j",
        "outputId": "b00118bd-1446-4f15-a38a-0999924e8b3a"
      },
      "execution_count": 121,
      "outputs": [
        {
          "output_type": "stream",
          "name": "stdout",
          "text": [
            "   OrderID   OrderDate Customer      Segment Region   Product  \\\n",
            "0  CA-1001  15-01-2023     Ravi     Consumer  South    Laptop   \n",
            "4  CA-1005  05-02-2023    Divya     Consumer  South     Phone   \n",
            "1  CA-1002  20-02-2023    Priya    Corporate  North   Printer   \n",
            "2  CA-1003  25-01-2023     Amit     Consumer   East  Notebook   \n",
            "3  CA-1004  01-03-2023    Anita  Home Office   West     Table   \n",
            "\n",
            "          Category  SubCategory  Quantity  UnitPrice  Discount  Profit  \n",
            "0       Technology    Computers         1      55000      0.10    5000  \n",
            "4       Technology       Phones         2      20000      0.00    3000  \n",
            "1       Technology  Peripherals         2      12000      0.15    1800  \n",
            "2  Office Supplies        Paper         3        200      0.05     150  \n",
            "3        Furniture       Tables         1      18000      0.20   -1500  \n"
          ]
        }
      ]
    },
    {
      "cell_type": "code",
      "source": [
        "# 6️ GroupBy Category → Total Profit, Avg Discount\n",
        "grouped = df.groupby('Category').agg({'Profit': 'sum', 'Discount': 'mean'})\n",
        "print(\" Grouped Summary:\", grouped)"
      ],
      "metadata": {
        "colab": {
          "base_uri": "https://localhost:8080/",
          "height": 0
        },
        "id": "lYJriaLRyNpY",
        "outputId": "45fffdde-5e5c-40ca-b860-82bdd49fe874"
      },
      "execution_count": 122,
      "outputs": [
        {
          "output_type": "stream",
          "name": "stdout",
          "text": [
            " Grouped Summary:                  Profit  Discount\n",
            "Category                         \n",
            "Furniture         -1500  0.200000\n",
            "Office Supplies     150  0.050000\n",
            "Technology         9800  0.083333\n"
          ]
        }
      ]
    },
    {
      "cell_type": "code",
      "source": [
        "# 7. Add a column TotalPrice = Quantity * UnitPrice\n",
        "df['TotalPrice'] = df['Quantity'] * df['UnitPrice']\n",
        "print(\" TotalPrice Column:\", df['TotalPrice'])"
      ],
      "metadata": {
        "colab": {
          "base_uri": "https://localhost:8080/",
          "height": 0
        },
        "id": "Jj0QFguDxZ5w",
        "outputId": "509b8a35-790a-402a-dadb-85ee4e2fbdbe"
      },
      "execution_count": 123,
      "outputs": [
        {
          "output_type": "stream",
          "name": "stdout",
          "text": [
            " TotalPrice Column: 0    55000\n",
            "1    24000\n",
            "2      600\n",
            "3    18000\n",
            "4    40000\n",
            "Name: TotalPrice, dtype: int64\n"
          ]
        }
      ]
    },
    {
      "cell_type": "code",
      "source": [
        "# 8. Drop the SubCategory column.\n",
        "df = df.drop('SubCategory', axis=1)\n",
        "print(\" SubCategory Column Dropped:\", df.columns)"
      ],
      "metadata": {
        "colab": {
          "base_uri": "https://localhost:8080/",
          "height": 0
        },
        "id": "DrUnd1avxaBW",
        "outputId": "04f09e79-eee1-4615-b860-4874e17c7d1c"
      },
      "execution_count": 124,
      "outputs": [
        {
          "output_type": "stream",
          "name": "stdout",
          "text": [
            " SubCategory Column Dropped: Index(['OrderID', 'OrderDate', 'Customer', 'Segment', 'Region', 'Product',\n",
            "       'Category', 'Quantity', 'UnitPrice', 'Discount', 'Profit',\n",
            "       'TotalPrice'],\n",
            "      dtype='object')\n"
          ]
        }
      ]
    },
    {
      "cell_type": "code",
      "source": [
        "# 9. Fill nulls in Discount with 0.10.\n",
        "df['Discount'] = df['Discount'].fillna(0.10)\n",
        "print(\" Nulls in Discount Filled:\", df['Discount'])"
      ],
      "metadata": {
        "colab": {
          "base_uri": "https://localhost:8080/",
          "height": 0
        },
        "id": "qt-q6iL90pYh",
        "outputId": "178fa5ba-3f9d-463e-f8ac-087a7d7e9046"
      },
      "execution_count": 125,
      "outputs": [
        {
          "output_type": "stream",
          "name": "stdout",
          "text": [
            " Nulls in Discount Filled: 0    0.10\n",
            "1    0.15\n",
            "2    0.05\n",
            "3    0.20\n",
            "4    0.00\n",
            "Name: Discount, dtype: float64\n"
          ]
        }
      ]
    },
    {
      "cell_type": "code",
      "source": [
        "# 10. Apply a function to categorize orders:\n",
        "def classify(row):\n",
        "    if row['Profit'] > 4000:\n",
        "        return 'High'\n",
        "    elif row['Profit'] > 0:\n",
        "        return 'Medium'\n",
        "    else:\n",
        "        return 'Low'\n",
        "\n",
        "df['ProfitCategory'] = df.apply(classify, axis=1)\n",
        "print(\" Profit Category: \", df[['OrderID', 'Profit', 'ProfitCategory']])\n"
      ],
      "metadata": {
        "colab": {
          "base_uri": "https://localhost:8080/",
          "height": 0
        },
        "id": "X6qGVSKF0pbB",
        "outputId": "e91181a4-850f-44c3-c08a-e2d1aa502258"
      },
      "execution_count": 126,
      "outputs": [
        {
          "output_type": "stream",
          "name": "stdout",
          "text": [
            " Profit Category:     OrderID  Profit ProfitCategory\n",
            "0  CA-1001    5000           High\n",
            "1  CA-1002    1800         Medium\n",
            "2  CA-1003     150         Medium\n",
            "3  CA-1004   -1500            Low\n",
            "4  CA-1005    3000         Medium\n"
          ]
        }
      ]
    },
    {
      "cell_type": "markdown",
      "source": [
        "PART 2: PySpark DataFrame Operations\n",
        "1. Load the same CSV using PySpark.\n",
        "2. Show schema and first 5 rows.\n",
        "3. Select columns, Rename Customer → Client .\n",
        "4. Filter Segment = 'Consumer' and Profit < 1000 .\n",
        "OrderID,OrderDate,Customer,Segment,Region,Product,Category,SubCategory,Quantity,UnitPric\n",
        "CA-1001,2023-01-15,Ravi,Consumer,South,Laptop,Technology,Computers,1,55000,0.10,5000\n",
        "CA-1002,2023-02-\n",
        "20,Priya,Corporate,North,Printer,Technology,Peripherals,2,12000,0.15,1800\n",
        "CA-1003,2023-01-25,Amit,Consumer,East,Notebook,Office Supplies,Paper,3,200,0.05,150\n",
        "CA-1004,2023-03-01,Anita,Home Office,West,Table,Furniture,Tables,1,18000,0.20,-1500\n",
        "CA-1005,2023-02-05,Divya,Consumer,South,Phone,Technology,Phones,2,20000,0.00,3000\n",
        "\n",
        "5. GroupBy Region and show average profit.\n",
        "6. Use withColumn to create TotalPrice = Quantity * UnitPrice .\n",
        "7. Use when().otherwise() to classify Profit as:\n",
        "'Profit' > 2000 → 'High'\n",
        "'Profit' <= 0 → 'Loss'\n",
        "else 'Medium'\n",
        "8. Use drop() to remove SubCategory .\n",
        "9. Handle nulls in Discount using fillna(0.10) .\n",
        "10. Convert OrderDate to date type and extract year , month ."
      ],
      "metadata": {
        "id": "N8BnQL2r1H_1"
      }
    },
    {
      "cell_type": "code",
      "source": [
        "from pyspark.sql import SparkSession\n",
        "from pyspark.sql.functions import col, when, year, month, to_date\n",
        "\n",
        "\n",
        "spark = SparkSession.builder.appName(\"Superstore\").getOrCreate()\n",
        "df = spark.read.csv(\"superstore.csv\", header=True, inferSchema=True)"
      ],
      "metadata": {
        "id": "S6PUNMTR0pdp"
      },
      "execution_count": 127,
      "outputs": []
    },
    {
      "cell_type": "code",
      "source": [
        "# 2️ Show schema and first 5 rows\n",
        "df.printSchema()\n",
        "df.show(5)\n"
      ],
      "metadata": {
        "colab": {
          "base_uri": "https://localhost:8080/",
          "height": 0
        },
        "id": "kjaDIqmo1VFj",
        "outputId": "5b1e50b9-c7c6-4e53-a848-a3235608b0d7"
      },
      "execution_count": 128,
      "outputs": [
        {
          "output_type": "stream",
          "name": "stdout",
          "text": [
            "root\n",
            " |-- OrderID: string (nullable = true)\n",
            " |-- OrderDate: string (nullable = true)\n",
            " |-- Customer: string (nullable = true)\n",
            " |-- Segment: string (nullable = true)\n",
            " |-- Region: string (nullable = true)\n",
            " |-- Product: string (nullable = true)\n",
            " |-- Category: string (nullable = true)\n",
            " |-- SubCategory: string (nullable = true)\n",
            " |-- Quantity: integer (nullable = true)\n",
            " |-- UnitPrice: integer (nullable = true)\n",
            " |-- Discount: double (nullable = true)\n",
            " |-- Profit: integer (nullable = true)\n",
            "\n",
            "+-------+----------+--------+-----------+------+--------+---------------+-----------+--------+---------+--------+------+\n",
            "|OrderID| OrderDate|Customer|    Segment|Region| Product|       Category|SubCategory|Quantity|UnitPrice|Discount|Profit|\n",
            "+-------+----------+--------+-----------+------+--------+---------------+-----------+--------+---------+--------+------+\n",
            "|CA-1001|15-01-2023|    Ravi|   Consumer| South|  Laptop|     Technology|  Computers|       1|    55000|     0.1|  5000|\n",
            "|CA-1002|20-02-2023|   Priya|  Corporate| North| Printer|     Technology|Peripherals|       2|    12000|    0.15|  1800|\n",
            "|CA-1003|25-01-2023|    Amit|   Consumer|  East|Notebook|Office Supplies|      Paper|       3|      200|    0.05|   150|\n",
            "|CA-1004|01-03-2023|   Anita|Home Office|  West|   Table|      Furniture|     Tables|       1|    18000|     0.2| -1500|\n",
            "|CA-1005|05-02-2023|   Divya|   Consumer| South|   Phone|     Technology|     Phones|       2|    20000|     0.0|  3000|\n",
            "+-------+----------+--------+-----------+------+--------+---------------+-----------+--------+---------+--------+------+\n",
            "\n"
          ]
        }
      ]
    },
    {
      "cell_type": "code",
      "source": [
        "# 3️ Select columns, rename Customer → Client\n",
        "df_selected = df.select(\"OrderID\",col(\"OrderDate\"),col(\"Customer\").alias(\"Client\"),\"Product\",\"Profit\")\n",
        "\n",
        "df_selected.show()"
      ],
      "metadata": {
        "colab": {
          "base_uri": "https://localhost:8080/",
          "height": 0
        },
        "id": "JKGgKmCc3URn",
        "outputId": "780a9f92-3fff-493c-b385-3908bd253173"
      },
      "execution_count": 129,
      "outputs": [
        {
          "output_type": "stream",
          "name": "stdout",
          "text": [
            "+-------+----------+------+--------+------+\n",
            "|OrderID| OrderDate|Client| Product|Profit|\n",
            "+-------+----------+------+--------+------+\n",
            "|CA-1001|15-01-2023|  Ravi|  Laptop|  5000|\n",
            "|CA-1002|20-02-2023| Priya| Printer|  1800|\n",
            "|CA-1003|25-01-2023|  Amit|Notebook|   150|\n",
            "|CA-1004|01-03-2023| Anita|   Table| -1500|\n",
            "|CA-1005|05-02-2023| Divya|   Phone|  3000|\n",
            "+-------+----------+------+--------+------+\n",
            "\n"
          ]
        }
      ]
    },
    {
      "cell_type": "code",
      "source": [
        "# 4️ Filter Segment = 'Consumer' and Profit < 1000\n",
        "df_filtered = df.filter((col(\"Segment\") == \"Consumer\") & (col(\"Profit\") < 1000))\n",
        "df_filtered.show()"
      ],
      "metadata": {
        "colab": {
          "base_uri": "https://localhost:8080/",
          "height": 0
        },
        "id": "bZi1ABOw3UdY",
        "outputId": "446fa2aa-1a65-49e5-b972-22807d8889e6"
      },
      "execution_count": 130,
      "outputs": [
        {
          "output_type": "stream",
          "name": "stdout",
          "text": [
            "+-------+----------+--------+--------+------+--------+---------------+-----------+--------+---------+--------+------+\n",
            "|OrderID| OrderDate|Customer| Segment|Region| Product|       Category|SubCategory|Quantity|UnitPrice|Discount|Profit|\n",
            "+-------+----------+--------+--------+------+--------+---------------+-----------+--------+---------+--------+------+\n",
            "|CA-1003|25-01-2023|    Amit|Consumer|  East|Notebook|Office Supplies|      Paper|       3|      200|    0.05|   150|\n",
            "+-------+----------+--------+--------+------+--------+---------------+-----------+--------+---------+--------+------+\n",
            "\n"
          ]
        }
      ]
    },
    {
      "cell_type": "code",
      "source": [
        "# 5️ GroupBy Region and show average profit\n",
        "df_grouped = df.groupBy(\"Region\").avg(\"Profit\")\n",
        "df_grouped.show()"
      ],
      "metadata": {
        "colab": {
          "base_uri": "https://localhost:8080/",
          "height": 0
        },
        "id": "IC-lZ1dB3Uf-",
        "outputId": "24046270-0547-4bd3-9bd1-dd98b1cc7bfa"
      },
      "execution_count": 131,
      "outputs": [
        {
          "output_type": "stream",
          "name": "stdout",
          "text": [
            "+------+-----------+\n",
            "|Region|avg(Profit)|\n",
            "+------+-----------+\n",
            "| South|     4000.0|\n",
            "|  East|      150.0|\n",
            "|  West|    -1500.0|\n",
            "| North|     1800.0|\n",
            "+------+-----------+\n",
            "\n"
          ]
        }
      ]
    },
    {
      "cell_type": "code",
      "source": [
        "# 6. Use withColumn to create TotalPrice = Quantity * UnitPrice .\n",
        "df = df.withColumn(\"TotalPrice\", col(\"Quantity\") * col(\"UnitPrice\"))\n",
        "df.show()"
      ],
      "metadata": {
        "colab": {
          "base_uri": "https://localhost:8080/",
          "height": 0
        },
        "id": "NwzRnI1F3Uih",
        "outputId": "0bc99d77-5210-4584-d640-821d97fa9185"
      },
      "execution_count": 132,
      "outputs": [
        {
          "output_type": "stream",
          "name": "stdout",
          "text": [
            "+-------+----------+--------+-----------+------+--------+---------------+-----------+--------+---------+--------+------+----------+\n",
            "|OrderID| OrderDate|Customer|    Segment|Region| Product|       Category|SubCategory|Quantity|UnitPrice|Discount|Profit|TotalPrice|\n",
            "+-------+----------+--------+-----------+------+--------+---------------+-----------+--------+---------+--------+------+----------+\n",
            "|CA-1001|15-01-2023|    Ravi|   Consumer| South|  Laptop|     Technology|  Computers|       1|    55000|     0.1|  5000|     55000|\n",
            "|CA-1002|20-02-2023|   Priya|  Corporate| North| Printer|     Technology|Peripherals|       2|    12000|    0.15|  1800|     24000|\n",
            "|CA-1003|25-01-2023|    Amit|   Consumer|  East|Notebook|Office Supplies|      Paper|       3|      200|    0.05|   150|       600|\n",
            "|CA-1004|01-03-2023|   Anita|Home Office|  West|   Table|      Furniture|     Tables|       1|    18000|     0.2| -1500|     18000|\n",
            "|CA-1005|05-02-2023|   Divya|   Consumer| South|   Phone|     Technology|     Phones|       2|    20000|     0.0|  3000|     40000|\n",
            "+-------+----------+--------+-----------+------+--------+---------------+-----------+--------+---------+--------+------+----------+\n",
            "\n"
          ]
        }
      ]
    },
    {
      "cell_type": "code",
      "source": [
        "# 7️ Classify Profit using when().otherwise()\n",
        "df = df.withColumn(\n",
        "    \"ProfitCategory\",\n",
        "    when(col(\"Profit\") > 2000, \"High\")\n",
        "    .when(col(\"Profit\") <= 0, \"Loss\")\n",
        "    .otherwise(\"Medium\")\n",
        ")\n",
        "df.select(\"OrderID\", \"Profit\", \"ProfitCategory\").show()"
      ],
      "metadata": {
        "colab": {
          "base_uri": "https://localhost:8080/",
          "height": 0
        },
        "id": "avLami1i3UpX",
        "outputId": "1201416a-6cbc-4c5a-c704-18dcdd27c718"
      },
      "execution_count": 133,
      "outputs": [
        {
          "output_type": "stream",
          "name": "stdout",
          "text": [
            "+-------+------+--------------+\n",
            "|OrderID|Profit|ProfitCategory|\n",
            "+-------+------+--------------+\n",
            "|CA-1001|  5000|          High|\n",
            "|CA-1002|  1800|        Medium|\n",
            "|CA-1003|   150|        Medium|\n",
            "|CA-1004| -1500|          Loss|\n",
            "|CA-1005|  3000|          High|\n",
            "+-------+------+--------------+\n",
            "\n"
          ]
        }
      ]
    },
    {
      "cell_type": "code",
      "source": [
        "# 8. Use drop() to remove SubCategory .\n",
        "df = df.drop(\"SubCategory\")\n",
        "df.show()"
      ],
      "metadata": {
        "colab": {
          "base_uri": "https://localhost:8080/",
          "height": 0
        },
        "id": "tyNGivtn3Uus",
        "outputId": "c9de60c4-7baf-4f49-d9c4-0738beda6cf4"
      },
      "execution_count": 134,
      "outputs": [
        {
          "output_type": "stream",
          "name": "stdout",
          "text": [
            "+-------+----------+--------+-----------+------+--------+---------------+--------+---------+--------+------+----------+--------------+\n",
            "|OrderID| OrderDate|Customer|    Segment|Region| Product|       Category|Quantity|UnitPrice|Discount|Profit|TotalPrice|ProfitCategory|\n",
            "+-------+----------+--------+-----------+------+--------+---------------+--------+---------+--------+------+----------+--------------+\n",
            "|CA-1001|15-01-2023|    Ravi|   Consumer| South|  Laptop|     Technology|       1|    55000|     0.1|  5000|     55000|          High|\n",
            "|CA-1002|20-02-2023|   Priya|  Corporate| North| Printer|     Technology|       2|    12000|    0.15|  1800|     24000|        Medium|\n",
            "|CA-1003|25-01-2023|    Amit|   Consumer|  East|Notebook|Office Supplies|       3|      200|    0.05|   150|       600|        Medium|\n",
            "|CA-1004|01-03-2023|   Anita|Home Office|  West|   Table|      Furniture|       1|    18000|     0.2| -1500|     18000|          Loss|\n",
            "|CA-1005|05-02-2023|   Divya|   Consumer| South|   Phone|     Technology|       2|    20000|     0.0|  3000|     40000|          High|\n",
            "+-------+----------+--------+-----------+------+--------+---------------+--------+---------+--------+------+----------+--------------+\n",
            "\n"
          ]
        }
      ]
    },
    {
      "cell_type": "code",
      "source": [
        "# 9. Handle nulls in Discount using fillna(0.10) .\n",
        "\n",
        "df = df.fillna({\"Discount\": 0.10})\n",
        "df.show()"
      ],
      "metadata": {
        "colab": {
          "base_uri": "https://localhost:8080/",
          "height": 0
        },
        "id": "fAv2btvl3Uxd",
        "outputId": "68656f1d-99f7-4582-cbd6-b2a69fa0c4d5"
      },
      "execution_count": 135,
      "outputs": [
        {
          "output_type": "stream",
          "name": "stdout",
          "text": [
            "+-------+----------+--------+-----------+------+--------+---------------+--------+---------+--------+------+----------+--------------+\n",
            "|OrderID| OrderDate|Customer|    Segment|Region| Product|       Category|Quantity|UnitPrice|Discount|Profit|TotalPrice|ProfitCategory|\n",
            "+-------+----------+--------+-----------+------+--------+---------------+--------+---------+--------+------+----------+--------------+\n",
            "|CA-1001|15-01-2023|    Ravi|   Consumer| South|  Laptop|     Technology|       1|    55000|     0.1|  5000|     55000|          High|\n",
            "|CA-1002|20-02-2023|   Priya|  Corporate| North| Printer|     Technology|       2|    12000|    0.15|  1800|     24000|        Medium|\n",
            "|CA-1003|25-01-2023|    Amit|   Consumer|  East|Notebook|Office Supplies|       3|      200|    0.05|   150|       600|        Medium|\n",
            "|CA-1004|01-03-2023|   Anita|Home Office|  West|   Table|      Furniture|       1|    18000|     0.2| -1500|     18000|          Loss|\n",
            "|CA-1005|05-02-2023|   Divya|   Consumer| South|   Phone|     Technology|       2|    20000|     0.0|  3000|     40000|          High|\n",
            "+-------+----------+--------+-----------+------+--------+---------------+--------+---------+--------+------+----------+--------------+\n",
            "\n"
          ]
        }
      ]
    },
    {
      "cell_type": "code",
      "source": [
        "# 10 Convert OrderDate to date and extract year, month\n",
        "df = df.withColumn(\"OrderDate\", to_date(col(\"OrderDate\"), \"yyyy-MM-dd\"))\n",
        "df = df.withColumn(\"Year\", year(col(\"OrderDate\")))\n",
        "df = df.withColumn(\"Month\", month(col(\"OrderDate\")))\n"
      ],
      "metadata": {
        "id": "2aJoKXcA42RJ"
      },
      "execution_count": 136,
      "outputs": []
    },
    {
      "cell_type": "markdown",
      "source": [
        "PART 3: Dask DataFrame Operations (Pandas Alternative)"
      ],
      "metadata": {
        "id": "D-b4bDbm5_xk"
      }
    },
    {
      "cell_type": "code",
      "source": [
        "!pip install dask"
      ],
      "metadata": {
        "colab": {
          "base_uri": "https://localhost:8080/",
          "height": 0
        },
        "id": "C86pOue56B6X",
        "outputId": "5a4ddeed-a19a-4c8c-94de-948ba7256433"
      },
      "execution_count": 137,
      "outputs": [
        {
          "output_type": "stream",
          "name": "stdout",
          "text": [
            "Requirement already satisfied: dask in /usr/local/lib/python3.11/dist-packages (2025.5.0)\n",
            "Requirement already satisfied: click>=8.1 in /usr/local/lib/python3.11/dist-packages (from dask) (8.2.1)\n",
            "Requirement already satisfied: cloudpickle>=3.0.0 in /usr/local/lib/python3.11/dist-packages (from dask) (3.1.1)\n",
            "Requirement already satisfied: fsspec>=2021.09.0 in /usr/local/lib/python3.11/dist-packages (from dask) (2025.3.0)\n",
            "Requirement already satisfied: packaging>=20.0 in /usr/local/lib/python3.11/dist-packages (from dask) (25.0)\n",
            "Requirement already satisfied: partd>=1.4.0 in /usr/local/lib/python3.11/dist-packages (from dask) (1.4.2)\n",
            "Requirement already satisfied: pyyaml>=5.3.1 in /usr/local/lib/python3.11/dist-packages (from dask) (6.0.2)\n",
            "Requirement already satisfied: toolz>=0.10.0 in /usr/local/lib/python3.11/dist-packages (from dask) (0.12.1)\n",
            "Requirement already satisfied: importlib_metadata>=4.13.0 in /usr/local/lib/python3.11/dist-packages (from dask) (8.7.0)\n",
            "Requirement already satisfied: zipp>=3.20 in /usr/local/lib/python3.11/dist-packages (from importlib_metadata>=4.13.0->dask) (3.23.0)\n",
            "Requirement already satisfied: locket in /usr/local/lib/python3.11/dist-packages (from partd>=1.4.0->dask) (1.0.0)\n"
          ]
        }
      ]
    },
    {
      "cell_type": "code",
      "source": [
        "import dask.dataframe as dd\n",
        "import pandas as pd\n",
        "df = dd.read_csv('superstore.csv')"
      ],
      "metadata": {
        "id": "m-LMUTDv6H4F"
      },
      "execution_count": 138,
      "outputs": []
    },
    {
      "cell_type": "code",
      "source": [
        "print(df)"
      ],
      "metadata": {
        "colab": {
          "base_uri": "https://localhost:8080/",
          "height": 0
        },
        "id": "-KxD_BUr6H6_",
        "outputId": "26d5fdd1-f350-42bb-ef85-1db8b797998d"
      },
      "execution_count": 139,
      "outputs": [
        {
          "output_type": "stream",
          "name": "stdout",
          "text": [
            "Dask DataFrame Structure:\n",
            "              OrderID OrderDate Customer Segment  Region Product Category SubCategory Quantity UnitPrice Discount Profit\n",
            "npartitions=1                                                                                                           \n",
            "               string    string   string  string  string  string   string      string    int64     int64  float64  int64\n",
            "                  ...       ...      ...     ...     ...     ...      ...         ...      ...       ...      ...    ...\n",
            "Dask Name: to_string_dtype, 2 expressions\n",
            "Expr=ArrowStringConversion(frame=FromMapProjectable(d05e51d))\n"
          ]
        }
      ]
    },
    {
      "cell_type": "markdown",
      "source": [
        "3. Do the following:\n",
        "Compute average discount by category.\n",
        "\n",
        "Filter orders with more than 1 quantity and high profit.\n",
        "\n",
        "Save filtered data to new CSV.\n"
      ],
      "metadata": {
        "id": "rQGg_GIf6oue"
      }
    },
    {
      "cell_type": "code",
      "source": [
        "# Compute average discount by category\n",
        "avg_discount = df.groupby(\"Category\").agg({\"Discount\": \"mean\"}).compute()\n",
        "print(\"Average Discount by Category:\")\n",
        "print(avg_discount)"
      ],
      "metadata": {
        "colab": {
          "base_uri": "https://localhost:8080/",
          "height": 0
        },
        "id": "n_1KTQbB6IQo",
        "outputId": "2e4c1028-30eb-4132-b8d1-2abb6fa2d43e"
      },
      "execution_count": 140,
      "outputs": [
        {
          "output_type": "stream",
          "name": "stdout",
          "text": [
            "Average Discount by Category:\n",
            "                 Discount\n",
            "Category                 \n",
            "Technology       0.083333\n",
            "Office Supplies  0.050000\n",
            "Furniture        0.200000\n"
          ]
        }
      ]
    },
    {
      "cell_type": "code",
      "source": [
        "# Step 3b: Filter orders with Quantity > 1 and Profit > 100\n",
        "filtered_df = df[(df[\"Quantity\"] > 1) & (df[\"Profit\"] > 100)]\n"
      ],
      "metadata": {
        "id": "4hPrNcru6IS-"
      },
      "execution_count": 141,
      "outputs": []
    },
    {
      "cell_type": "code",
      "source": [
        "print(\"Filtered Orders Sample:\")\n",
        "print(filtered_df.head())"
      ],
      "metadata": {
        "colab": {
          "base_uri": "https://localhost:8080/",
          "height": 0
        },
        "id": "S1hPsM9b6IVk",
        "outputId": "aced7d33-c330-47ea-e1ff-b28b3ad63cdc"
      },
      "execution_count": 142,
      "outputs": [
        {
          "output_type": "stream",
          "name": "stdout",
          "text": [
            "Filtered Orders Sample:\n",
            "   OrderID   OrderDate Customer    Segment Region   Product         Category  \\\n",
            "1  CA-1002  20-02-2023    Priya  Corporate  North   Printer       Technology   \n",
            "2  CA-1003  25-01-2023     Amit   Consumer   East  Notebook  Office Supplies   \n",
            "4  CA-1005  05-02-2023    Divya   Consumer  South     Phone       Technology   \n",
            "\n",
            "   SubCategory  Quantity  UnitPrice  Discount  Profit  \n",
            "1  Peripherals         2      12000      0.15    1800  \n",
            "2        Paper         3        200      0.05     150  \n",
            "4       Phones         2      20000      0.00    3000  \n"
          ]
        }
      ]
    },
    {
      "cell_type": "code",
      "source": [
        "# Step 3c: Save filtered data to new CSV\n",
        "filtered_df.to_csv(\"filtered_orders_*.csv\", single_file=True)\n",
        "\n",
        "print(\" Filtered data saved to 'filtered_orders.csv'\")"
      ],
      "metadata": {
        "colab": {
          "base_uri": "https://localhost:8080/",
          "height": 0
        },
        "id": "_wthjdEN6IaO",
        "outputId": "7ad4766b-2b10-44e3-b66a-33a156f29896"
      },
      "execution_count": 143,
      "outputs": [
        {
          "output_type": "stream",
          "name": "stdout",
          "text": [
            " Filtered data saved to 'filtered_orders.csv'\n"
          ]
        }
      ]
    },
    {
      "cell_type": "markdown",
      "source": [
        "PART 4: JSON Handling (Complex Nested)\n",
        "1. Create a nested JSON file:\n",
        "[\n",
        "{\n",
        "\"OrderID\": \"CA-1001\",\n",
        "\"Customer\": {\"Name\": \"Ravi\", \"Segment\": \"Consumer\"},\n",
        "\"Details\": {\"Region\": \"South\", \"Profit\": 5000}\n",
        "},\n",
        "{\n",
        "\"OrderID\": \"CA-1002\",\n",
        "\"Customer\": {\"Name\": \"Priya\", \"Segment\": \"Corporate\"},\n",
        "\"Details\": {\"Region\": \"North\", \"Profit\": 1800}\n",
        "}\n",
        "]\n",
        "2. Load it using PySpark:\n",
        "df_json = spark.read.json('orders.json', multiLine=True)\n",
        "df_json.printSchema()\n",
        "df_json.select(\"OrderID\", \"Customer.Name\", \"Details.Profit\").show()"
      ],
      "metadata": {
        "id": "kmA8rj5m7tMT"
      }
    },
    {
      "cell_type": "code",
      "source": [
        "# Load JSON with nested fields\n",
        "df_json = spark.read.json('orders.json', multiLine=True)\n",
        "\n",
        "# View schema to confirm nested structure\n",
        "df_json.printSchema()\n",
        "\n",
        "# Select nested fields using dot notation\n",
        "df_json.select(\"OrderID\", \"Customer.Name\", \"Details.Profit\").show()\n"
      ],
      "metadata": {
        "colab": {
          "base_uri": "https://localhost:8080/"
        },
        "id": "ZqsuYMam6Ick",
        "outputId": "40e98e61-fed1-4247-dab6-11774f086d9b"
      },
      "execution_count": 144,
      "outputs": [
        {
          "output_type": "stream",
          "name": "stdout",
          "text": [
            "root\n",
            " |-- Customer: struct (nullable = true)\n",
            " |    |-- Name: string (nullable = true)\n",
            " |    |-- Segment: string (nullable = true)\n",
            " |-- Details: struct (nullable = true)\n",
            " |    |-- Profit: long (nullable = true)\n",
            " |    |-- Region: string (nullable = true)\n",
            " |-- OrderID: string (nullable = true)\n",
            "\n",
            "+-------+-----+------+\n",
            "|OrderID| Name|Profit|\n",
            "+-------+-----+------+\n",
            "|CA-1001| Ravi|  5000|\n",
            "|CA-1002|Priya|  1800|\n",
            "+-------+-----+------+\n",
            "\n"
          ]
        }
      ]
    }
  ]
}