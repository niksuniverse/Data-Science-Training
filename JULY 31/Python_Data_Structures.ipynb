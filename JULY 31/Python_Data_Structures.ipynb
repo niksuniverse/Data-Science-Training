{
  "nbformat": 4,
  "nbformat_minor": 0,
  "metadata": {
    "colab": {
      "provenance": []
    },
    "kernelspec": {
      "name": "python3",
      "display_name": "Python 3"
    },
    "language_info": {
      "name": "python"
    }
  },
  "cells": [
    {
      "cell_type": "markdown",
      "source": [
        "Python Data Structures – Intermediate Exercises\n",
        "Notebook\n",
        "Includes:\n",
        "\n",
        "Nested Lists & Dicts,\n",
        "\n",
        "Sorting,\n",
        "\n",
        "Frequency Maps,\n",
        "\n",
        "Set Logic,\n",
        "\n",
        "Dictionary Comprehensions"
      ],
      "metadata": {
        "id": "kL_P9JIbJ57D"
      }
    },
    {
      "cell_type": "markdown",
      "source": [
        "Section 1: Nested Lists & Access\n",
        "Given:\n",
        "students = [\n",
        "[\"Ravi\", [85, 72, 90]],\n",
        "[\"Sneha\", [95, 88, 92]],\n",
        "[\"Kabir\", [65, 70, 60]],\n",
        "[\"Anita\", [75, 80, 78]]\n",
        "]\n",
        "Tasks:\n",
        "1. Print Ravi’s second mark.\n",
        "2. Calculate average mark for each student.\n",
        "3. Print the name of students who scored above 80 in all subjects.\n",
        "4. Create a new list of [name, average] ."
      ],
      "metadata": {
        "id": "HUjNV3lKJ54J"
      }
    },
    {
      "cell_type": "code",
      "source": [
        "import pandas as pd\n",
        "import numpy as np\n",
        "students = [\n",
        "[\"Ravi\", [85, 72, 90]],\n",
        "[\"Sneha\", [95, 88, 92]],\n",
        "[\"Kabir\", [65, 70, 60]],\n",
        "[\"Anita\", [75, 80, 78]]\n",
        "]"
      ],
      "metadata": {
        "id": "ejrhk11gJ-mE"
      },
      "execution_count": 41,
      "outputs": []
    },
    {
      "cell_type": "code",
      "source": [
        "print(students)"
      ],
      "metadata": {
        "colab": {
          "base_uri": "https://localhost:8080/"
        },
        "id": "d-8hh1TXJ-o_",
        "outputId": "e19a5469-2e5e-4091-ff73-92af23ba8f84"
      },
      "execution_count": 42,
      "outputs": [
        {
          "output_type": "stream",
          "name": "stdout",
          "text": [
            "[['Ravi', [85, 72, 90]], ['Sneha', [95, 88, 92]], ['Kabir', [65, 70, 60]], ['Anita', [75, 80, 78]]]\n"
          ]
        }
      ]
    },
    {
      "cell_type": "code",
      "source": [
        "ravi_second_mark=students[0][1][1]\n",
        "print(\"Ravi's second mark:\", ravi_second_mark)\n"
      ],
      "metadata": {
        "colab": {
          "base_uri": "https://localhost:8080/"
        },
        "id": "JxA1W_6JJ-rT",
        "outputId": "9667afc9-7512-4cab-984e-5c6f243a7acd"
      },
      "execution_count": 43,
      "outputs": [
        {
          "output_type": "stream",
          "name": "stdout",
          "text": [
            "Ravi's second mark: 72\n"
          ]
        }
      ]
    },
    {
      "cell_type": "code",
      "source": [
        "# ️2 Calculate average mark for each student\n",
        "for student in students:\n",
        "    name, marks = student\n",
        "    average = sum(marks) / len(marks)\n",
        "    print(f\"{name}'s average mark: {average:.2f}\")"
      ],
      "metadata": {
        "colab": {
          "base_uri": "https://localhost:8080/"
        },
        "id": "bsm8jBPWJ-ta",
        "outputId": "d5428b72-151b-40bd-99b5-38cc01e76599"
      },
      "execution_count": 44,
      "outputs": [
        {
          "output_type": "stream",
          "name": "stdout",
          "text": [
            "Ravi's average mark: 82.33\n",
            "Sneha's average mark: 91.67\n",
            "Kabir's average mark: 65.00\n",
            "Anita's average mark: 77.67\n"
          ]
        }
      ]
    },
    {
      "cell_type": "code",
      "source": [
        "# 3️ Print names of students who scored above 80 in all subjects\n",
        "print(\"Students who scored above 80 in all subjects: \")\n",
        "for name, marks in students:\n",
        "    if all(mark > 80 for mark in marks):\n",
        "        print(name)"
      ],
      "metadata": {
        "colab": {
          "base_uri": "https://localhost:8080/"
        },
        "id": "Nr3xqxP8J-wD",
        "outputId": "05743293-ee57-410c-bf27-ea290f71e81f"
      },
      "execution_count": 45,
      "outputs": [
        {
          "output_type": "stream",
          "name": "stdout",
          "text": [
            "Students who scored above 80 in all subjects: \n",
            "Sneha\n"
          ]
        }
      ]
    },
    {
      "cell_type": "code",
      "source": [
        "# 4️ Create a new list of [name, average]\n",
        "name_avg_list = []\n",
        "for name, marks in students:\n",
        "    average = sum(marks) / len(marks)\n",
        "    name_avg_list.append([name, average])\n",
        "\n",
        "print(\"List of [name, average]:\\n\", name_avg_list )"
      ],
      "metadata": {
        "colab": {
          "base_uri": "https://localhost:8080/"
        },
        "id": "Fz_q7xmuJ-yF",
        "outputId": "ff100075-b4c1-4511-9401-1a45818b3e2f"
      },
      "execution_count": 46,
      "outputs": [
        {
          "output_type": "stream",
          "name": "stdout",
          "text": [
            "List of [name, average]:\n",
            " [['Ravi', 82.33333333333333], ['Sneha', 91.66666666666667], ['Kabir', 65.0], ['Anita', 77.66666666666667]]\n"
          ]
        }
      ]
    },
    {
      "cell_type": "markdown",
      "source": [
        "Section 2: Dictionary of Lists\n",
        "\n",
        "Given:\n",
        "data = {\n",
        "\"products\": [\"Mobile\", \"Laptop\", \"Tablet\", \"Camera\"],\n",
        "\"prices\": [12000, 55000, 18000, 25000],\n",
        "\"ratings\": [4.5, 4.7, 4.0, 4.2]\n",
        "}\n",
        "\n",
        "Tasks:\n",
        "1. Create a list of dictionaries for each product:\n",
        "\n",
        "# Example:\n",
        "{'name': 'Mobile', 'price': 12000, 'rating': 4.5}\n",
        "\n",
        "2. Filter and print products with price >\n",
        "\n",
        "20,000 and rating >= 4.5\n",
        "\n",
        "3. Sort the product list by rating (descending)"
      ],
      "metadata": {
        "id": "WQxJdxm9N4X_"
      }
    },
    {
      "cell_type": "code",
      "source": [
        "data = {\n",
        "    \"products\": [\"Mobile\", \"Laptop\", \"Tablet\", \"Camera\"],\n",
        "    \"prices\": [12000, 55000, 18000, 25000],\n",
        "    \"ratings\": [4.5, 4.7, 4.0, 4.2]\n",
        "}\n",
        "\n",
        "product_list = [\n",
        "    {\"name\": name, \"price\": price, \"rating\": rating}\n",
        "    for name, price, rating in zip(data[\"products\"], data[\"prices\"], data[\"ratings\"])\n",
        "]\n",
        "\n",
        "print(\"List of Product Dictionaries:\")\n",
        "for product in product_list:\n",
        "    print(product)\n"
      ],
      "metadata": {
        "colab": {
          "base_uri": "https://localhost:8080/"
        },
        "id": "4dZKdnucJ-0d",
        "outputId": "648f2424-a8ac-49ee-d2eb-511d8792cd64"
      },
      "execution_count": 47,
      "outputs": [
        {
          "output_type": "stream",
          "name": "stdout",
          "text": [
            "List of Product Dictionaries:\n",
            "{'name': 'Mobile', 'price': 12000, 'rating': 4.5}\n",
            "{'name': 'Laptop', 'price': 55000, 'rating': 4.7}\n",
            "{'name': 'Tablet', 'price': 18000, 'rating': 4.0}\n",
            "{'name': 'Camera', 'price': 25000, 'rating': 4.2}\n"
          ]
        }
      ]
    },
    {
      "cell_type": "code",
      "source": [
        "print(\"\\nfiltered products :\")\n",
        "filtered = [p for p in product_list if p[\"price\"] > 20000 and p[\"rating\"] >= 4.5]\n",
        "for p in filtered:\n",
        "    print(p)\n"
      ],
      "metadata": {
        "colab": {
          "base_uri": "https://localhost:8080/"
        },
        "id": "q7q08NN-J-3A",
        "outputId": "0c08ca0e-f0cb-472c-c0d7-60266ca607d5"
      },
      "execution_count": 48,
      "outputs": [
        {
          "output_type": "stream",
          "name": "stdout",
          "text": [
            "\n",
            "filtered products :\n",
            "{'name': 'Laptop', 'price': 55000, 'rating': 4.7}\n"
          ]
        }
      ]
    },
    {
      "cell_type": "code",
      "source": [
        "\n",
        "sorted_products = sorted(product_list, key=lambda p: p[\"rating\"], reverse=True)\n",
        "\n",
        "print(\"\\nProducts Sorted by Rating ):\")\n",
        "for p in sorted_products:\n",
        "    print(p)\n"
      ],
      "metadata": {
        "colab": {
          "base_uri": "https://localhost:8080/"
        },
        "id": "UEMnZEc9J-5n",
        "outputId": "e3ba2f41-86b2-4669-dfe4-82785c29c9f5"
      },
      "execution_count": 49,
      "outputs": [
        {
          "output_type": "stream",
          "name": "stdout",
          "text": [
            "\n",
            "Products Sorted by Rating ):\n",
            "{'name': 'Laptop', 'price': 55000, 'rating': 4.7}\n",
            "{'name': 'Mobile', 'price': 12000, 'rating': 4.5}\n",
            "{'name': 'Camera', 'price': 25000, 'rating': 4.2}\n",
            "{'name': 'Tablet', 'price': 18000, 'rating': 4.0}\n"
          ]
        }
      ]
    },
    {
      "cell_type": "markdown",
      "source": [
        "Section 3: Frequency Dictionary + Set Operations\n",
        "\n",
        "Given a sentence:\n",
        "text = \"ai is the future and ai will change everything in the ai world\"\n",
        "Tasks:\n",
        "\n",
        "1. Count frequency of each word using a dictionary\n",
        "2. Print only the words that appear more than once\n",
        "3. Convert words into a set and print sorted unique words\n",
        "4. Find common words between:\n",
        "\n",
        "set1 = set(text.split())\n",
        "set2 = {\"ai\", \"ml\", \"data\", \"future\"}"
      ],
      "metadata": {
        "id": "Kc3jYjtpOcVE"
      }
    },
    {
      "cell_type": "code",
      "source": [
        "text = \"ai is the future and ai will change everything in the ai world\"\n",
        "words = text.split()\n",
        "\n",
        "freq = {}\n",
        "for word in words:\n",
        "    freq[word] = freq.get(word, 0) + 1\n",
        "\n",
        "print(\"Word Frequencies:\")\n",
        "for word, count in freq.items():\n",
        "    print(f\"{word}: {count}\")\n"
      ],
      "metadata": {
        "colab": {
          "base_uri": "https://localhost:8080/"
        },
        "id": "9W6QFEfnJ-8g",
        "outputId": "c06fd277-63f9-431c-f581-c5fc8d2c77f0"
      },
      "execution_count": 50,
      "outputs": [
        {
          "output_type": "stream",
          "name": "stdout",
          "text": [
            "Word Frequencies:\n",
            "ai: 3\n",
            "is: 1\n",
            "the: 2\n",
            "future: 1\n",
            "and: 1\n",
            "will: 1\n",
            "change: 1\n",
            "everything: 1\n",
            "in: 1\n",
            "world: 1\n"
          ]
        }
      ]
    },
    {
      "cell_type": "markdown",
      "source": [
        "2. Print only the words that appear more than once\n"
      ],
      "metadata": {
        "id": "vC47uEnAPGdS"
      }
    },
    {
      "cell_type": "code",
      "source": [
        "print(\"\\nWords appearing more than once:\")\n",
        "for word, count in freq.items():\n",
        "    if count > 1:\n",
        "        print(word)\n"
      ],
      "metadata": {
        "colab": {
          "base_uri": "https://localhost:8080/"
        },
        "id": "QOVXVuJJJ-_J",
        "outputId": "fc0bcd0e-fcf0-4359-fa64-7755106998ad"
      },
      "execution_count": 51,
      "outputs": [
        {
          "output_type": "stream",
          "name": "stdout",
          "text": [
            "\n",
            "Words appearing more than once:\n",
            "ai\n",
            "the\n"
          ]
        }
      ]
    },
    {
      "cell_type": "markdown",
      "source": [
        "3. Convert words into a set and print sorted unique words"
      ],
      "metadata": {
        "id": "4I2Ai2jxPIUu"
      }
    },
    {
      "cell_type": "code",
      "execution_count": 52,
      "metadata": {
        "colab": {
          "base_uri": "https://localhost:8080/"
        },
        "id": "fXsE2y_KJ3Ed",
        "outputId": "52c7bf90-990b-42cc-ddef-d7918eb1ffd8"
      },
      "outputs": [
        {
          "output_type": "stream",
          "name": "stdout",
          "text": [
            "\n",
            "Sorted Unique Words:\n",
            "['ai', 'and', 'change', 'everything', 'future', 'in', 'is', 'the', 'will', 'world']\n"
          ]
        }
      ],
      "source": [
        "unique_words = sorted(set(words))\n",
        "print(\"\\nSorted Unique Words:\")\n",
        "print(unique_words)\n"
      ]
    },
    {
      "cell_type": "code",
      "source": [
        "set1 = set(words)\n",
        "set2 = {\"ai\", \"ml\", \"data\", \"future\"}\n",
        "\n",
        "common = set1 & set2\n",
        "print(\"\\nCommon Words:\")\n",
        "print(common)\n"
      ],
      "metadata": {
        "colab": {
          "base_uri": "https://localhost:8080/"
        },
        "id": "f8ikOlsOO0Ph",
        "outputId": "ef01bd84-b730-4181-fc95-a205031ae3bd"
      },
      "execution_count": 53,
      "outputs": [
        {
          "output_type": "stream",
          "name": "stdout",
          "text": [
            "\n",
            "Common Words:\n",
            "{'ai', 'future'}\n"
          ]
        }
      ]
    },
    {
      "cell_type": "markdown",
      "source": [
        "Section 4: Dictionary Comprehension + Conditional Logic\n",
        "Given:\n",
        "\n",
        "sales = {\n",
        "'Amit': 70000,\n",
        "'Sneha': 45000,\n",
        "'Ravi': 30000,\n",
        "'Anita': 90000,\n",
        "'Kabir': 20000\n",
        "}\n",
        "\n",
        "Tasks:\n",
        "\n",
        "1. Create a new dictionary with 10% bonus added to each sale\n",
        "2. Filter and return only those with sales >\n",
        "50,000\n",
        "\n",
        "3. Label each person as 'High' , 'Medium' , or 'Low' based on:\n",
        "75,000: High\n",
        "40,000: Medium\n",
        "Else: Low"
      ],
      "metadata": {
        "id": "L2qZbt7TPMUR"
      }
    },
    {
      "cell_type": "code",
      "source": [
        "sales = {\n",
        "    'Amit': 70000,\n",
        "    'Sneha': 45000,\n",
        "    'Ravi': 30000,\n",
        "    'Anita': 90000,\n",
        "    'Kabir': 20000\n",
        "}\n",
        "print(sales)\n",
        "\n"
      ],
      "metadata": {
        "colab": {
          "base_uri": "https://localhost:8080/"
        },
        "id": "Xq5P2czEO0Sl",
        "outputId": "bd77c4f1-1aba-4fa2-8399-7b85b415dda9"
      },
      "execution_count": 54,
      "outputs": [
        {
          "output_type": "stream",
          "name": "stdout",
          "text": [
            "{'Amit': 70000, 'Sneha': 45000, 'Ravi': 30000, 'Anita': 90000, 'Kabir': 20000}\n"
          ]
        }
      ]
    },
    {
      "cell_type": "code",
      "source": [
        "# Sales with 10% bonus added\n",
        "bonus_sales = {name: int(sale * 1.10) for name, sale in sales.items()}\n",
        "print(\"Sales with 10% Bonus:\")\n",
        "print(bonus_sales)"
      ],
      "metadata": {
        "colab": {
          "base_uri": "https://localhost:8080/"
        },
        "id": "Gmt6GMhAO0VE",
        "outputId": "a1e41579-0483-4518-91c4-d20099ee73a5"
      },
      "execution_count": 55,
      "outputs": [
        {
          "output_type": "stream",
          "name": "stdout",
          "text": [
            "Sales with 10% Bonus:\n",
            "{'Amit': 77000, 'Sneha': 49500, 'Ravi': 33000, 'Anita': 99000, 'Kabir': 22000}\n"
          ]
        }
      ]
    },
    {
      "cell_type": "code",
      "source": [
        "# Filtered dictionary of high sales\n",
        "high_sales = {name: sale for name, sale in sales.items() if sale > 50000}\n",
        "print(\"\\nSales Above 50,000:\")\n",
        "print(high_sales)\n"
      ],
      "metadata": {
        "colab": {
          "base_uri": "https://localhost:8080/"
        },
        "id": "rVAxcNZiPZ2K",
        "outputId": "0f5e1e5e-ac69-4c3c-8cf5-367aa72e2ea8"
      },
      "execution_count": 56,
      "outputs": [
        {
          "output_type": "stream",
          "name": "stdout",
          "text": [
            "\n",
            "Sales Above 50,000:\n",
            "{'Amit': 70000, 'Anita': 90000}\n"
          ]
        }
      ]
    },
    {
      "cell_type": "code",
      "source": [
        "# Label sales as High, Medium, or Low\n",
        "labels = {\n",
        "    name: (\n",
        "        \"High\" if sale >= 75000 else\n",
        "        \"Medium\" if sale >= 40000 else\n",
        "        \"Low\"\n",
        "    )\n",
        "    for name, sale in sales.items()\n",
        "}\n",
        "\n",
        "print(\"\\nSales Labels:\")\n",
        "print(labels)\n"
      ],
      "metadata": {
        "colab": {
          "base_uri": "https://localhost:8080/"
        },
        "id": "2vzH7YkTPZ5B",
        "outputId": "c8f0968c-8f0f-4b7a-c404-457995ec0db5"
      },
      "execution_count": 57,
      "outputs": [
        {
          "output_type": "stream",
          "name": "stdout",
          "text": [
            "\n",
            "Sales Labels:\n",
            "{'Amit': 'Medium', 'Sneha': 'Medium', 'Ravi': 'Low', 'Anita': 'High', 'Kabir': 'Low'}\n"
          ]
        }
      ]
    },
    {
      "cell_type": "markdown",
      "source": [
        "Section 5: Tuples, Sets, and Zipping\n",
        "\n",
        "Given:\n",
        "names = (\"Ravi\", \"Sneha\", \"Kabir\")\n",
        "marks = (88, 92, 76)\n",
        "\n",
        "Tasks:\n",
        "1. Convert both tuples to a dictionary using zip()\n",
        "2. Find min and max marks\n",
        "3. Create a set from marks and add a new value\n",
        "4. Merge two sets and show only unique elements"
      ],
      "metadata": {
        "id": "YCmQ10w3Pfea"
      }
    },
    {
      "cell_type": "code",
      "source": [
        "names = (\"Ravi\", \"Sneha\", \"Kabir\")\n",
        "marks = (88, 92, 76)\n",
        "\n",
        "# Create dictionary from zipped tuples\n",
        "student_marks = dict(zip(names, marks))\n",
        "print(\"Student Marks Dictionary:\")\n",
        "print(student_marks)\n"
      ],
      "metadata": {
        "colab": {
          "base_uri": "https://localhost:8080/"
        },
        "id": "-sevjzDzPjhN",
        "outputId": "617f9cef-dad5-416c-bbc4-034bc26512ad"
      },
      "execution_count": 58,
      "outputs": [
        {
          "output_type": "stream",
          "name": "stdout",
          "text": [
            "Student Marks Dictionary:\n",
            "{'Ravi': 88, 'Sneha': 92, 'Kabir': 76}\n"
          ]
        }
      ]
    },
    {
      "cell_type": "code",
      "source": [
        "print(\"\\nMinimum Mark:\", min(marks))\n",
        "print(\"Maximum Mark:\", max(marks))\n"
      ],
      "metadata": {
        "colab": {
          "base_uri": "https://localhost:8080/"
        },
        "id": "hn7HWkJtPjj7",
        "outputId": "73bd379a-e5fe-45f3-d3b9-c7884701972f"
      },
      "execution_count": 59,
      "outputs": [
        {
          "output_type": "stream",
          "name": "stdout",
          "text": [
            "\n",
            "Minimum Mark: 76\n",
            "Maximum Mark: 92\n"
          ]
        }
      ]
    },
    {
      "cell_type": "code",
      "source": [
        "\n",
        "marks_set = set(marks)\n",
        "\n",
        "marks_set.add(85)\n",
        "\n",
        "print(\"\\nSet of Marks with New Entry:\")\n",
        "print(marks_set)\n"
      ],
      "metadata": {
        "colab": {
          "base_uri": "https://localhost:8080/"
        },
        "id": "-QcvVJXuPjrz",
        "outputId": "a93e9b04-6bf7-4344-f760-f1862e52c9d7"
      },
      "execution_count": 60,
      "outputs": [
        {
          "output_type": "stream",
          "name": "stdout",
          "text": [
            "\n",
            "Set of Marks with New Entry:\n",
            "{88, 92, 85, 76}\n"
          ]
        }
      ]
    },
    {
      "cell_type": "code",
      "source": [
        "\n",
        "extra_marks = {90, 76, 100}\n",
        "\n",
        "merged_set = marks_set.union(extra_marks)\n",
        "\n",
        "print(\"\\nMerged Set (Unique Elements):\")\n",
        "print(merged_set)\n"
      ],
      "metadata": {
        "colab": {
          "base_uri": "https://localhost:8080/"
        },
        "id": "MksuPGPKPjv3",
        "outputId": "eaa59d5d-2dd0-4b30-bc78-7ae8f9bd0f7f"
      },
      "execution_count": 61,
      "outputs": [
        {
          "output_type": "stream",
          "name": "stdout",
          "text": [
            "\n",
            "Merged Set (Unique Elements):\n",
            "{100, 85, 88, 90, 92, 76}\n"
          ]
        }
      ]
    },
    {
      "cell_type": "markdown",
      "source": [
        "Bonus Challenge\n",
        "\n",
        "You’re given the following nested dictionary of employee data:\n",
        "\n",
        "employees = {\n",
        "\"E101\": {\"name\": \"Ravi\", \"dept\": \"Sales\", \"salary\": 50000},\n",
        "\"E102\": {\"name\": \"Sneha\", \"dept\": \"Engineering\", \"salary\": 80000},\n",
        "\n",
        "\"E103\": {\"name\": \"Kabir\", \"dept\": \"HR\", \"salary\": 45000}\n",
        "}\n",
        "\n",
        "Tasks:\n",
        "\n",
        "1. Add a new employee \"E104\"\n",
        "2. Increase salary by 10% for Engineering department only\n",
        "3. Find the department with the highest"
      ],
      "metadata": {
        "id": "6N5z8zAqPx4d"
      }
    },
    {
      "cell_type": "code",
      "source": [
        "employees = { \"E101\": {\"name\": \"Ravi\", \"dept\": \"Sales\", \"salary\": 50000}, \"E102\": {\"name\": \"Sneha\", \"dept\": \"Engineering\", \"salary\": 80000}, \"E103\": {\"name\": \"Kabir\", \"dept\": \"HR\", \"salary\": 45000} }\n",
        "employees"
      ],
      "metadata": {
        "colab": {
          "base_uri": "https://localhost:8080/"
        },
        "id": "no_GdO_hPz0F",
        "outputId": "9bffc90e-d2c1-4308-e77a-9b50376cd8af"
      },
      "execution_count": 62,
      "outputs": [
        {
          "output_type": "execute_result",
          "data": {
            "text/plain": [
              "{'E101': {'name': 'Ravi', 'dept': 'Sales', 'salary': 50000},\n",
              " 'E102': {'name': 'Sneha', 'dept': 'Engineering', 'salary': 80000},\n",
              " 'E103': {'name': 'Kabir', 'dept': 'HR', 'salary': 45000}}"
            ]
          },
          "metadata": {},
          "execution_count": 62
        }
      ]
    },
    {
      "cell_type": "code",
      "source": [
        "employees[\"E104\"] = {\"name\": \"Anita\", \"dept\": \"Engineering\", \"salary\": 85000}\n",
        "employees"
      ],
      "metadata": {
        "colab": {
          "base_uri": "https://localhost:8080/"
        },
        "id": "HfFfJ9s4Pz2e",
        "outputId": "6b036c95-34fa-45ce-d9ad-3da17114de68"
      },
      "execution_count": 63,
      "outputs": [
        {
          "output_type": "execute_result",
          "data": {
            "text/plain": [
              "{'E101': {'name': 'Ravi', 'dept': 'Sales', 'salary': 50000},\n",
              " 'E102': {'name': 'Sneha', 'dept': 'Engineering', 'salary': 80000},\n",
              " 'E103': {'name': 'Kabir', 'dept': 'HR', 'salary': 45000},\n",
              " 'E104': {'name': 'Anita', 'dept': 'Engineering', 'salary': 85000}}"
            ]
          },
          "metadata": {},
          "execution_count": 63
        }
      ]
    },
    {
      "cell_type": "code",
      "source": [
        "for emp in employees.values():\n",
        "    if emp[\"dept\"] == \"Engineering\":\n",
        "        emp[\"salary\"] = int(emp[\"salary\"] * 1.10)\n",
        "employees"
      ],
      "metadata": {
        "colab": {
          "base_uri": "https://localhost:8080/"
        },
        "id": "pfxLbLacPz5L",
        "outputId": "459ecd35-cba3-4754-af56-fd813e1851c3"
      },
      "execution_count": 64,
      "outputs": [
        {
          "output_type": "execute_result",
          "data": {
            "text/plain": [
              "{'E101': {'name': 'Ravi', 'dept': 'Sales', 'salary': 50000},\n",
              " 'E102': {'name': 'Sneha', 'dept': 'Engineering', 'salary': 88000},\n",
              " 'E103': {'name': 'Kabir', 'dept': 'HR', 'salary': 45000},\n",
              " 'E104': {'name': 'Anita', 'dept': 'Engineering', 'salary': 93500}}"
            ]
          },
          "metadata": {},
          "execution_count": 64
        }
      ]
    },
    {
      "cell_type": "code",
      "source": [
        "from collections import defaultdict\n",
        "\n",
        "dept_salary = defaultdict(int)\n",
        "\n",
        "for emp in employees.values():\n",
        "    dept_salary[emp[\"dept\"]] += emp[\"salary\"]\n",
        "\n",
        "highest_dept = max(dept_salary, key=dept_salary.get)\n",
        "print(\"Department with highest total salary:\", highest_dept)\n",
        "employees"
      ],
      "metadata": {
        "colab": {
          "base_uri": "https://localhost:8080/"
        },
        "id": "yizjv9ChPz7j",
        "outputId": "b394c501-5623-4c39-a637-a356ee5b01ac"
      },
      "execution_count": 65,
      "outputs": [
        {
          "output_type": "stream",
          "name": "stdout",
          "text": [
            "Department with highest total salary: Engineering\n"
          ]
        },
        {
          "output_type": "execute_result",
          "data": {
            "text/plain": [
              "{'E101': {'name': 'Ravi', 'dept': 'Sales', 'salary': 50000},\n",
              " 'E102': {'name': 'Sneha', 'dept': 'Engineering', 'salary': 88000},\n",
              " 'E103': {'name': 'Kabir', 'dept': 'HR', 'salary': 45000},\n",
              " 'E104': {'name': 'Anita', 'dept': 'Engineering', 'salary': 93500}}"
            ]
          },
          "metadata": {},
          "execution_count": 65
        }
      ]
    }
  ]
}