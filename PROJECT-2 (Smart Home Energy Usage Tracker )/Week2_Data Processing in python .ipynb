{
  "nbformat": 4,
  "nbformat_minor": 0,
  "metadata": {
    "colab": {
      "provenance": []
    },
    "kernelspec": {
      "name": "python3",
      "display_name": "Python 3"
    },
    "language_info": {
      "name": "python"
    }
  },
  "cells": [
    {
      "cell_type": "markdown",
      "source": [
        "#Smart Home Energy Tracker"
      ],
      "metadata": {
        "id": "20uLLwAcLDLY"
      }
    },
    {
      "cell_type": "code",
      "execution_count": 20,
      "metadata": {
        "id": "P92KaPleIi3j"
      },
      "outputs": [],
      "source": [
        "import pandas as pd\n",
        "import numpy as np"
      ]
    },
    {
      "cell_type": "code",
      "source": [
        "df = pd.read_csv(\"energyusage.csv\")\n",
        "print(df)"
      ],
      "metadata": {
        "colab": {
          "base_uri": "https://localhost:8080/"
        },
        "id": "mixNnicKI1LH",
        "outputId": "acf53741-7287-4ced-b434-ee0d1d1b12b1"
      },
      "execution_count": 21,
      "outputs": [
        {
          "output_type": "stream",
          "name": "stdout",
          "text": [
            "   device_id  room_id            timestamp energy_kwh\n",
            "0        101        1  2025-07-22 08:00:00        1.2\n",
            "1        102        2  2025-07-22 09:00:00        2.5\n",
            "2        103        3  2025-07-22 10:00:00        0.8\n",
            "3        104        1  2025-07-22 11:00:00        1.0\n",
            "4        105        2  2025-07-22 12:00:00        NaN\n",
            "5        106        3  2025-07-22 13:00:00        abc\n"
          ]
        }
      ]
    },
    {
      "cell_type": "markdown",
      "source": [
        "#Convert timestamp to datetime"
      ],
      "metadata": {
        "id": "HX-AYaqMJGQd"
      }
    },
    {
      "cell_type": "code",
      "source": [
        "\n",
        "df['timestamp'] = pd.to_datetime(df['timestamp'], errors='coerce')\n",
        "print(df)"
      ],
      "metadata": {
        "colab": {
          "base_uri": "https://localhost:8080/"
        },
        "id": "Ny2nX2C6I1Nw",
        "outputId": "a21e1fcf-d460-4cd6-c40e-484d532d61b1"
      },
      "execution_count": 22,
      "outputs": [
        {
          "output_type": "stream",
          "name": "stdout",
          "text": [
            "   device_id  room_id           timestamp energy_kwh\n",
            "0        101        1 2025-07-22 08:00:00        1.2\n",
            "1        102        2 2025-07-22 09:00:00        2.5\n",
            "2        103        3 2025-07-22 10:00:00        0.8\n",
            "3        104        1 2025-07-22 11:00:00        1.0\n",
            "4        105        2 2025-07-22 12:00:00        NaN\n",
            "5        106        3 2025-07-22 13:00:00        abc\n"
          ]
        }
      ]
    },
    {
      "cell_type": "markdown",
      "source": [
        "\n",
        "# Clean malformed energy values"
      ],
      "metadata": {
        "id": "2Hrh6cA0JWUH"
      }
    },
    {
      "cell_type": "code",
      "source": [
        "\n",
        "df['energy_kwh'] = pd.to_numeric(df['energy_kwh'], errors='coerce')\n",
        "print(df)"
      ],
      "metadata": {
        "colab": {
          "base_uri": "https://localhost:8080/"
        },
        "id": "QB6dC2yYI1QY",
        "outputId": "e01fd640-6ef9-4c2a-d91d-5abc3f5208dd"
      },
      "execution_count": 23,
      "outputs": [
        {
          "output_type": "stream",
          "name": "stdout",
          "text": [
            "   device_id  room_id           timestamp  energy_kwh\n",
            "0        101        1 2025-07-22 08:00:00         1.2\n",
            "1        102        2 2025-07-22 09:00:00         2.5\n",
            "2        103        3 2025-07-22 10:00:00         0.8\n",
            "3        104        1 2025-07-22 11:00:00         1.0\n",
            "4        105        2 2025-07-22 12:00:00         NaN\n",
            "5        106        3 2025-07-22 13:00:00         NaN\n"
          ]
        }
      ]
    },
    {
      "cell_type": "markdown",
      "source": [
        "\n",
        "# Drop rows with missing values"
      ],
      "metadata": {
        "id": "57CVj8kBJjLx"
      }
    },
    {
      "cell_type": "code",
      "source": [
        "\n",
        "df = df.dropna()\n",
        "print(df)"
      ],
      "metadata": {
        "colab": {
          "base_uri": "https://localhost:8080/"
        },
        "id": "ZoyeO58nI1Sp",
        "outputId": "3286a5aa-7b19-470b-8e61-27eee12c5a7d"
      },
      "execution_count": 31,
      "outputs": [
        {
          "output_type": "stream",
          "name": "stdout",
          "text": [
            "   device_id  room_id           timestamp  energy_kwh\n",
            "0        101        1 2025-07-22 08:00:00         1.2\n",
            "1        102        2 2025-07-22 09:00:00         2.5\n",
            "2        103        3 2025-07-22 10:00:00         0.8\n",
            "3        104        1 2025-07-22 11:00:00         1.0\n"
          ]
        }
      ]
    },
    {
      "cell_type": "markdown",
      "source": [
        "\n",
        "\n",
        "# Calculate total and average energy per device using NumPy"
      ],
      "metadata": {
        "id": "XntwQ1eiJw1E"
      }
    },
    {
      "cell_type": "code",
      "source": [
        "device_group = df_cleaned.groupby('device_id')['energy_kwh']\n"
      ],
      "metadata": {
        "id": "oJ_tfOqlI1VF"
      },
      "execution_count": 32,
      "outputs": []
    },
    {
      "cell_type": "code",
      "source": [
        "total_per_device = device_group.sum().to_dict()\n",
        "\n",
        "print(\" Total energy per device:\")\n",
        "print(total_per_device)"
      ],
      "metadata": {
        "colab": {
          "base_uri": "https://localhost:8080/"
        },
        "id": "g2lMGaqPI1XO",
        "outputId": "87b60a2f-d17e-47ac-f8af-87a861ba46fc"
      },
      "execution_count": 33,
      "outputs": [
        {
          "output_type": "stream",
          "name": "stdout",
          "text": [
            " Total energy per device:\n",
            "{101: 1.2, 102: 2.5, 103: 0.8, 104: 1.0}\n"
          ]
        }
      ]
    },
    {
      "cell_type": "code",
      "source": [
        "avg_per_device = device_group.mean().to_dict()\n",
        "\n",
        "print(\"\\n Average energy per device:\")\n",
        "print(avg_per_device)\n",
        "\n"
      ],
      "metadata": {
        "colab": {
          "base_uri": "https://localhost:8080/"
        },
        "id": "5qigQTr0I1ZG",
        "outputId": "d4a00d72-f022-40e3-d127-09e11854a3ff"
      },
      "execution_count": 34,
      "outputs": [
        {
          "output_type": "stream",
          "name": "stdout",
          "text": [
            "\n",
            " Average energy per device:\n",
            "{101: 1.2, 102: 2.5, 103: 0.8, 104: 1.0}\n"
          ]
        }
      ]
    },
    {
      "cell_type": "markdown",
      "source": [
        "\n",
        "# Generate room-level summaries using Pandas"
      ],
      "metadata": {
        "id": "8_Iiwu4fKX8d"
      }
    },
    {
      "cell_type": "code",
      "source": [
        "\n",
        "room_summary = df_cleaned.groupby('room_id')['energy_kwh'].sum()\n",
        "\n",
        "print(\"\\n Room-level total energy usage:\")\n",
        "print(room_summary)"
      ],
      "metadata": {
        "colab": {
          "base_uri": "https://localhost:8080/"
        },
        "id": "AkS9rVCmI1cH",
        "outputId": "f3ae793e-ad59-44e5-9ad5-da25fe002f1d"
      },
      "execution_count": 35,
      "outputs": [
        {
          "output_type": "stream",
          "name": "stdout",
          "text": [
            "\n",
            " Room-level total energy usage:\n",
            "room_id\n",
            "1    2.2\n",
            "2    2.5\n",
            "3    0.8\n",
            "Name: energy_kwh, dtype: float64\n"
          ]
        }
      ]
    },
    {
      "cell_type": "markdown",
      "source": [
        "\n",
        "\n",
        "# Save cleaned dataset"
      ],
      "metadata": {
        "id": "cTWhtM6iLA9U"
      }
    },
    {
      "cell_type": "code",
      "source": [
        "\n",
        "df_cleaned.to_csv(\"cleaned_energy_usage.csv\", index=False)\n"
      ],
      "metadata": {
        "id": "fzbr19f5KL1K"
      },
      "execution_count": 30,
      "outputs": []
    }
  ]
}
