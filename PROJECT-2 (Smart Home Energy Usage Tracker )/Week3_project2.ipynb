{
  "nbformat": 4,
  "nbformat_minor": 0,
  "metadata": {
    "colab": {
      "provenance": []
    },
    "kernelspec": {
      "name": "python3",
      "display_name": "Python 3"
    },
    "language_info": {
      "name": "python"
    }
  },
  "cells": [
    {
      "cell_type": "code",
      "source": [
        "from pyspark.sql import SparkSession\n",
        "from pyspark.sql.functions import col, hour, when, sum as spark_sum\n",
        "\n",
        "# Step 1: Start Spark Session\n",
        "spark = SparkSession.builder.appName(\"DeviceLevelAggregation\").getOrCreate()"
      ],
      "metadata": {
        "id": "GoHH3-sJVCSL"
      },
      "execution_count": 1,
      "outputs": []
    },
    {
      "cell_type": "code",
      "execution_count": 2,
      "metadata": {
        "id": "pGt4JRnYU_1u"
      },
      "outputs": [],
      "source": [
        "# Step 2: Load energy usage CSV file\n",
        "df = spark.read.option(\"header\", True).option(\"inferSchema\", True) \\\n",
        "    .csv(\"energyusage.csv\")"
      ]
    },
    {
      "cell_type": "code",
      "source": [
        "# Step 3: Extract hour from timestamp\n",
        "df = df.withColumn(\"hour\", hour(col(\"timestamp\")))\n",
        "df.show()"
      ],
      "metadata": {
        "colab": {
          "base_uri": "https://localhost:8080/"
        },
        "id": "Nmi4_BMLVCNX",
        "outputId": "3e4440af-ec41-45c1-8eec-de421bfdd2a2"
      },
      "execution_count": 3,
      "outputs": [
        {
          "output_type": "stream",
          "name": "stdout",
          "text": [
            "+---------+-------+-------------------+----------+----+\n",
            "|device_id|room_id|          timestamp|energy_kwh|hour|\n",
            "+---------+-------+-------------------+----------+----+\n",
            "|      109|      1|2025-07-22 08:00:00|       3.3|   8|\n",
            "|      103|      2|2025-07-22 08:30:00|      1.67|   8|\n",
            "|      104|      1|2025-07-22 09:00:00|      0.83|   9|\n",
            "|      102|      1|2025-07-22 09:30:00|      1.52|   9|\n",
            "|      105|      3|2025-07-22 10:00:00|      3.36|  10|\n",
            "|      102|      2|2025-07-22 10:30:00|      1.02|  10|\n",
            "|      107|      3|2025-07-22 11:00:00|      0.96|  11|\n",
            "|      107|      1|2025-07-22 11:30:00|      2.42|  11|\n",
            "|      105|      3|2025-07-22 12:00:00|      1.33|  12|\n",
            "|      110|      2|2025-07-22 12:30:00|      2.94|  12|\n",
            "|      110|      1|2025-07-22 13:00:00|      2.58|  13|\n",
            "|      108|      3|2025-07-22 13:30:00|      1.44|  13|\n",
            "|      103|      2|2025-07-22 14:00:00|      3.43|  14|\n",
            "|      103|      3|2025-07-22 14:30:00|      3.44|  14|\n",
            "|      107|      3|2025-07-22 15:00:00|      3.12|  15|\n",
            "|      107|      2|2025-07-22 15:30:00|      2.85|  15|\n",
            "|      104|      1|2025-07-22 16:00:00|      1.08|  16|\n",
            "|      107|      2|2025-07-22 16:30:00|      3.08|  16|\n",
            "|      103|      1|2025-07-22 17:00:00|      3.05|  17|\n",
            "|      107|      3|2025-07-22 17:30:00|      0.62|  17|\n",
            "+---------+-------+-------------------+----------+----+\n",
            "only showing top 20 rows\n",
            "\n"
          ]
        }
      ]
    },
    {
      "cell_type": "code",
      "source": [
        "# Step 4: Label usage type: peak (18–23) or off-peak\n",
        "df = df.withColumn(\n",
        "    \"usage_type\",\n",
        "    when((col(\"hour\") >= 18) & (col(\"hour\") <= 23), \"peak\").otherwise(\"off_peak\")\n",
        ")\n",
        "df.show()"
      ],
      "metadata": {
        "colab": {
          "base_uri": "https://localhost:8080/"
        },
        "id": "mTMvJ7tZVCU7",
        "outputId": "942d9eac-7333-4e2a-9785-4e9dd25d561d"
      },
      "execution_count": 5,
      "outputs": [
        {
          "output_type": "stream",
          "name": "stdout",
          "text": [
            "+---------+-------+-------------------+----------+----+----------+\n",
            "|device_id|room_id|          timestamp|energy_kwh|hour|usage_type|\n",
            "+---------+-------+-------------------+----------+----+----------+\n",
            "|      109|      1|2025-07-22 08:00:00|       3.3|   8|  off_peak|\n",
            "|      103|      2|2025-07-22 08:30:00|      1.67|   8|  off_peak|\n",
            "|      104|      1|2025-07-22 09:00:00|      0.83|   9|  off_peak|\n",
            "|      102|      1|2025-07-22 09:30:00|      1.52|   9|  off_peak|\n",
            "|      105|      3|2025-07-22 10:00:00|      3.36|  10|  off_peak|\n",
            "|      102|      2|2025-07-22 10:30:00|      1.02|  10|  off_peak|\n",
            "|      107|      3|2025-07-22 11:00:00|      0.96|  11|  off_peak|\n",
            "|      107|      1|2025-07-22 11:30:00|      2.42|  11|  off_peak|\n",
            "|      105|      3|2025-07-22 12:00:00|      1.33|  12|  off_peak|\n",
            "|      110|      2|2025-07-22 12:30:00|      2.94|  12|  off_peak|\n",
            "|      110|      1|2025-07-22 13:00:00|      2.58|  13|  off_peak|\n",
            "|      108|      3|2025-07-22 13:30:00|      1.44|  13|  off_peak|\n",
            "|      103|      2|2025-07-22 14:00:00|      3.43|  14|  off_peak|\n",
            "|      103|      3|2025-07-22 14:30:00|      3.44|  14|  off_peak|\n",
            "|      107|      3|2025-07-22 15:00:00|      3.12|  15|  off_peak|\n",
            "|      107|      2|2025-07-22 15:30:00|      2.85|  15|  off_peak|\n",
            "|      104|      1|2025-07-22 16:00:00|      1.08|  16|  off_peak|\n",
            "|      107|      2|2025-07-22 16:30:00|      3.08|  16|  off_peak|\n",
            "|      103|      1|2025-07-22 17:00:00|      3.05|  17|  off_peak|\n",
            "|      107|      3|2025-07-22 17:30:00|      0.62|  17|  off_peak|\n",
            "+---------+-------+-------------------+----------+----+----------+\n",
            "only showing top 20 rows\n",
            "\n"
          ]
        }
      ]
    },
    {
      "cell_type": "code",
      "source": [
        "\n",
        "# Step 5: Group by device and usage_type\n",
        "grouped_df = df.groupBy(\"device_id\", \"usage_type\") \\\n",
        "    .agg(spark_sum(\"energy_kwh\").alias(\"total_energy\"))\n",
        "df.show()"
      ],
      "metadata": {
        "colab": {
          "base_uri": "https://localhost:8080/"
        },
        "id": "yINPSaUWVCXU",
        "outputId": "3f26ebd3-e740-49c6-faf9-c60e4e5cdab2"
      },
      "execution_count": 7,
      "outputs": [
        {
          "output_type": "stream",
          "name": "stdout",
          "text": [
            "+---------+-------+-------------------+----------+----+----------+\n",
            "|device_id|room_id|          timestamp|energy_kwh|hour|usage_type|\n",
            "+---------+-------+-------------------+----------+----+----------+\n",
            "|      109|      1|2025-07-22 08:00:00|       3.3|   8|  off_peak|\n",
            "|      103|      2|2025-07-22 08:30:00|      1.67|   8|  off_peak|\n",
            "|      104|      1|2025-07-22 09:00:00|      0.83|   9|  off_peak|\n",
            "|      102|      1|2025-07-22 09:30:00|      1.52|   9|  off_peak|\n",
            "|      105|      3|2025-07-22 10:00:00|      3.36|  10|  off_peak|\n",
            "|      102|      2|2025-07-22 10:30:00|      1.02|  10|  off_peak|\n",
            "|      107|      3|2025-07-22 11:00:00|      0.96|  11|  off_peak|\n",
            "|      107|      1|2025-07-22 11:30:00|      2.42|  11|  off_peak|\n",
            "|      105|      3|2025-07-22 12:00:00|      1.33|  12|  off_peak|\n",
            "|      110|      2|2025-07-22 12:30:00|      2.94|  12|  off_peak|\n",
            "|      110|      1|2025-07-22 13:00:00|      2.58|  13|  off_peak|\n",
            "|      108|      3|2025-07-22 13:30:00|      1.44|  13|  off_peak|\n",
            "|      103|      2|2025-07-22 14:00:00|      3.43|  14|  off_peak|\n",
            "|      103|      3|2025-07-22 14:30:00|      3.44|  14|  off_peak|\n",
            "|      107|      3|2025-07-22 15:00:00|      3.12|  15|  off_peak|\n",
            "|      107|      2|2025-07-22 15:30:00|      2.85|  15|  off_peak|\n",
            "|      104|      1|2025-07-22 16:00:00|      1.08|  16|  off_peak|\n",
            "|      107|      2|2025-07-22 16:30:00|      3.08|  16|  off_peak|\n",
            "|      103|      1|2025-07-22 17:00:00|      3.05|  17|  off_peak|\n",
            "|      107|      3|2025-07-22 17:30:00|      0.62|  17|  off_peak|\n",
            "+---------+-------+-------------------+----------+----+----------+\n",
            "only showing top 20 rows\n",
            "\n"
          ]
        }
      ]
    },
    {
      "cell_type": "code",
      "source": [
        "# Step 6: Pivot to show peak and off-peak side by side\n",
        "pivot_df = grouped_df.groupBy(\"device_id\") \\\n",
        "    .pivot(\"usage_type\", [\"peak\", \"off_peak\"]) \\\n",
        "    .sum(\"total_energy\") \\\n",
        "    .na.fill(0)\n",
        "pivot_df.show()"
      ],
      "metadata": {
        "colab": {
          "base_uri": "https://localhost:8080/"
        },
        "id": "0N_EKApRWMcu",
        "outputId": "7b699d42-2993-4c08-9de4-b5b249c62fdf"
      },
      "execution_count": 8,
      "outputs": [
        {
          "output_type": "stream",
          "name": "stdout",
          "text": [
            "+---------+------------------+------------------+\n",
            "|device_id|              peak|          off_peak|\n",
            "+---------+------------------+------------------+\n",
            "|      108|1.7999999999999998|              6.36|\n",
            "|      101|              7.57|             13.05|\n",
            "|      103|              2.92|             19.33|\n",
            "|      107|              1.91|             20.66|\n",
            "|      102|               1.0|             16.12|\n",
            "|      109|              0.77|              8.24|\n",
            "|      105|              4.18|             17.55|\n",
            "|      110|             12.26|             20.16|\n",
            "|      106|              9.39|16.849999999999998|\n",
            "|      104|              3.48|             15.17|\n",
            "+---------+------------------+------------------+\n",
            "\n"
          ]
        }
      ]
    },
    {
      "cell_type": "code",
      "source": [
        "# Step 7: Add total energy column\n",
        "final_df = pivot_df.withColumn(\"total_usage\", col(\"peak\") + col(\"off_peak\"))\n",
        "final_df.show()"
      ],
      "metadata": {
        "colab": {
          "base_uri": "https://localhost:8080/"
        },
        "id": "moTTMcrTWMXN",
        "outputId": "480d5154-dadb-44fd-e1ad-90735ee08995"
      },
      "execution_count": 9,
      "outputs": [
        {
          "output_type": "stream",
          "name": "stdout",
          "text": [
            "+---------+------------------+------------------+-----------+\n",
            "|device_id|              peak|          off_peak|total_usage|\n",
            "+---------+------------------+------------------+-----------+\n",
            "|      108|1.7999999999999998|              6.36|       8.16|\n",
            "|      101|              7.57|             13.05|      20.62|\n",
            "|      103|              2.92|             19.33|      22.25|\n",
            "|      107|              1.91|             20.66|      22.57|\n",
            "|      102|               1.0|             16.12|      17.12|\n",
            "|      109|              0.77|              8.24|       9.01|\n",
            "|      105|              4.18|             17.55|      21.73|\n",
            "|      110|             12.26|             20.16|      32.42|\n",
            "|      106|              9.39|16.849999999999998|      26.24|\n",
            "|      104|              3.48|             15.17|      18.65|\n",
            "+---------+------------------+------------------+-----------+\n",
            "\n"
          ]
        }
      ]
    },
    {
      "cell_type": "code",
      "source": [
        "# Step 8: Get top 5 energy-consuming devices\n",
        "top_devices = final_df.orderBy(col(\"total_usage\").desc()).limit(5)\n",
        "top_devices.show()"
      ],
      "metadata": {
        "colab": {
          "base_uri": "https://localhost:8080/"
        },
        "id": "GtaVVFXIWMZ7",
        "outputId": "767ce03a-209e-427b-afc8-8103cef56fc0"
      },
      "execution_count": 10,
      "outputs": [
        {
          "output_type": "stream",
          "name": "stdout",
          "text": [
            "+---------+-----+------------------+-----------+\n",
            "|device_id| peak|          off_peak|total_usage|\n",
            "+---------+-----+------------------+-----------+\n",
            "|      110|12.26|             20.16|      32.42|\n",
            "|      106| 9.39|16.849999999999998|      26.24|\n",
            "|      107| 1.91|             20.66|      22.57|\n",
            "|      103| 2.92|             19.33|      22.25|\n",
            "|      105| 4.18|             17.55|      21.73|\n",
            "+---------+-----+------------------+-----------+\n",
            "\n"
          ]
        }
      ]
    },
    {
      "cell_type": "code",
      "source": [
        "\n",
        "\n",
        "# Step 9: Save output\n",
        "top_devices.write.option(\"header\", True).mode(\"overwrite\") \\\n",
        "    .csv(\"top_devices_output\")\n"
      ],
      "metadata": {
        "id": "YMl5JhvCVCZn"
      },
      "execution_count": 11,
      "outputs": []
    }
  ]
}